{
 "cells": [
  {
   "cell_type": "markdown",
   "id": "58480b77-a6cc-4c5c-b16a-978509aaf048",
   "metadata": {
    "tags": []
   },
   "source": [
    "# Linear Probability Model"
   ]
  },
  {
   "cell_type": "markdown",
   "id": "c1d29827-63e1-4a6f-a49d-5ad6dd260e96",
   "metadata": {},
   "source": [
    "The purpose of this program is to regress a mortgage application approval against other variables in the HMDA data."
   ]
  },
  {
   "cell_type": "markdown",
   "id": "67b9f169-46c6-45e6-9f1a-f158599b5aa4",
   "metadata": {},
   "source": [
    "$P(Approval = 1 | \\lambda_j, \\chi_j) = \\beta_0 + \\lambda_j * Race/Ethnic/Gender Indicators  + \\beta_j * \\chi_j + \\mu $\n",
    "\n",
    "Variables of Interest\n",
    "- White\n",
    "- Black\n",
    "- Asian\n",
    "- Other\n",
    "- Multi-Race Interactions\n",
    "- Hispanic\n",
    "- Hispanic and Race Interactions\n",
    "- Non-Hispanic\n",
    "- Male \n",
    "- Female\n",
    "\n",
    "Control Variables\n",
    "- Income (log)\n",
    "- Loan to Value ratio\n",
    "- Debt to Income ratio\n",
    "- Loan Amount (log\n",
    "- Lender\n",
    "- Region Indicators by Community Tract  or county\n",
    "\n",
    "Possible Other Control Variables\n",
    "- Credit Score\n",
    "- Credit Score Type\n",
    "- Pre-Approval indicators\n",
    "- AUS(Automated Underwriting System) Decision\n",
    "\n",
    "Filters\n",
    "- Loan Purpose\n",
    "- Loan Type\n",
    "\n",
    "Clustered Standard errors\n",
    "- by Lender\n",
    "- by Region\n",
    "\n",
    "Other regressions to run that will use similar controls.\n",
    "- Interest Rates\n",
    "- Denial Rates"
   ]
  },
  {
   "cell_type": "code",
   "execution_count": null,
   "id": "e48cdc3c-ee60-433c-860e-deb1a9883264",
   "metadata": {
    "jupyter": {
     "source_hidden": true
    },
    "tags": []
   },
   "outputs": [],
   "source": [
    "import pandas as pd\n",
    "import numpy as np\n",
    "from sklearn.model_selection import train_test_split\n",
    "from sklearn.linear_model import LinearRegression\n",
    "\n",
    "# np.set_printoptions(precision=3, suppress=True)\n",
    "\n",
    "#This will allow all columns to be displayed when reviewing the data.\n",
    "pd.options.display.max_columns = None"
   ]
  },
  {
   "cell_type": "markdown",
   "id": "0d2cb0bb-8dd3-4913-9ddd-c416956bdbb2",
   "metadata": {},
   "source": [
    "tensorflow below"
   ]
  },
  {
   "cell_type": "code",
   "execution_count": null,
   "id": "fdea6a7a-f66e-40d2-baf3-cac31bbdc3a2",
   "metadata": {
    "jupyter": {
     "source_hidden": true
    },
    "tags": []
   },
   "outputs": [],
   "source": [
    "import tensorflow as tf\n",
    "\n",
    "from tensorflow import keras\n",
    "from tensorflow.keras import layers\n",
    "from tensorflow.keras.layers.experimental import preprocessing\n",
    "\n",
    "print(\"Num GPUs Available: \", len(tf.config.experimental.list_physical_devices('GPU')))\n",
    "tf.test.is_built_with_cuda()\n",
    "print(tf.version.VERSION)\n",
    "import sys\n",
    "print(sys.version)\n",
    "gpu = len(tf.config.list_physical_devices('GPU'))>0\n",
    "print(\"GPU is\", \"available\" if gpu else \"NOT AVAILABLE\")"
   ]
  },
  {
   "cell_type": "markdown",
   "id": "fbca5bc1-636b-4ee1-b5c5-5f8f4a0a3bf8",
   "metadata": {},
   "source": [
    "## Filter the Dataset before running the model.\n",
    "\n",
    "Below is for manipulating the dataset before running it through the funciton."
   ]
  },
  {
   "cell_type": "code",
   "execution_count": 1,
   "id": "4efa1235-bdff-4b81-8a66-28b23c04999b",
   "metadata": {
    "tags": []
   },
   "outputs": [
    {
     "ename": "NameError",
     "evalue": "name 'pd' is not defined",
     "output_type": "error",
     "traceback": [
      "\u001b[1;31m---------------------------------------------------------------------------\u001b[0m",
      "\u001b[1;31mNameError\u001b[0m                                 Traceback (most recent call last)",
      "\u001b[1;32m~\\AppData\\Local\\Temp/ipykernel_2788/2907111726.py\u001b[0m in \u001b[0;36m<module>\u001b[1;34m\u001b[0m\n\u001b[0;32m      3\u001b[0m \u001b[1;33m\u001b[0m\u001b[0m\n\u001b[0;32m      4\u001b[0m \u001b[1;31m#Do not change this code!\u001b[0m\u001b[1;33m\u001b[0m\u001b[1;33m\u001b[0m\u001b[0m\n\u001b[1;32m----> 5\u001b[1;33m \u001b[0mHMDA_raw_CSV\u001b[0m \u001b[1;33m=\u001b[0m \u001b[0mpd\u001b[0m\u001b[1;33m.\u001b[0m\u001b[0mread_csv\u001b[0m\u001b[1;33m(\u001b[0m\u001b[0mHMDA_raw_csv_file_location\u001b[0m\u001b[1;33m)\u001b[0m\u001b[1;33m\u001b[0m\u001b[1;33m\u001b[0m\u001b[0m\n\u001b[0m\u001b[0;32m      6\u001b[0m \u001b[0mHMDA_raw_CSV\u001b[0m\u001b[1;33m\u001b[0m\u001b[1;33m\u001b[0m\u001b[0m\n",
      "\u001b[1;31mNameError\u001b[0m: name 'pd' is not defined"
     ]
    }
   ],
   "source": [
    "# Load in HMDA Data\n",
    "HMDA_raw_csv_file_location = r'2019_HMDA_raw.csv'\n",
    "\n",
    "#Do not change this code! \n",
    "HMDA_raw_CSV = pd.read_csv(HMDA_raw_csv_file_location)\n",
    "HMDA_raw_CSV"
   ]
  },
  {
   "cell_type": "code",
   "execution_count": null,
   "id": "33f99499-8f85-49d4-9d77-e2bfbb34be53",
   "metadata": {
    "tags": []
   },
   "outputs": [],
   "source": [
    "#Smaller Sample for testing code.\n",
    "HMDA_sample = HMDA_raw_CSV.sample(100)\n",
    "HMDA_sample.to_csv('2019_HMDA_sample.csv',index = False)"
   ]
  },
  {
   "cell_type": "code",
   "execution_count": null,
   "id": "0b1a5d8d-d52d-4b39-a71c-d9049abe06b5",
   "metadata": {
    "tags": []
   },
   "outputs": [],
   "source": [
    "#Load in Smaller Sample\n",
    "HMDA_sample_file_location = r'2019_HMDA_sample.csv'\n",
    "\n",
    "#Do not change this code! \n",
    "HMDA_sample = pd.read_csv(HMDA_sample_file_location)\n",
    "HMDA_sample"
   ]
  },
  {
   "cell_type": "code",
   "execution_count": null,
   "id": "2d988a55-e651-4f4e-b7c0-48e593cf19f3",
   "metadata": {
    "tags": []
   },
   "outputs": [],
   "source": [
    "CommunityArea_and_topholder_file = r'CommunityARea and Topholder.xlsx'\n",
    "Community_Area_List = pd.read_excel(CommunityArea_and_topholder_file)\n",
    "# Community_Area_List[:5]"
   ]
  },
  {
   "cell_type": "code",
   "execution_count": null,
   "id": "2acff66a-5a0a-411c-bb14-aa75ee099ebb",
   "metadata": {
    "tags": []
   },
   "outputs": [],
   "source": [
    "#Quick merge \n",
    "table_1 = HMDA_raw_CSV\n",
    "table_2 = Community_Area_List\n",
    "table_1_column = 'census_tract'\n",
    "table_2_column = 'FIPS'\n",
    "\n",
    "#Do not change this code!\n",
    "merged_data = pd.merge(table_1, table_2, left_on = table_1_column, right_on = table_2_column)\n",
    "merged_data\n",
    "\n",
    "print('Merge complete')\n",
    "# merged_data[:5]"
   ]
  },
  {
   "cell_type": "code",
   "execution_count": null,
   "id": "19da577c-cc05-44b4-809c-d2247b3ebab9",
   "metadata": {
    "tags": []
   },
   "outputs": [],
   "source": [
    "regulators_and_supervisors_file_location = r'2020 Regulator and Supervisor Mod1.xlsx'\n",
    "regulators_and_supervisors = pd.read_excel(regulators_and_supervisors_file_location)\n",
    "\n",
    "table_3 = merged_data\n",
    "table_4 = regulators_and_supervisors\n",
    "table_3_column = 'lei'\n",
    "table_4_column = 'lei'\n",
    "\n",
    "#Do not change this code!\n",
    "merged_data_full = pd.merge(table_3, table_4, left_on = table_3_column, right_on = table_4_column)\n",
    "merged_data_full\n",
    "\n",
    "print('Merge complete')"
   ]
  },
  {
   "cell_type": "code",
   "execution_count": null,
   "id": "1792848b-da19-4dc7-9442-1a32edbba5eb",
   "metadata": {
    "tags": []
   },
   "outputs": [],
   "source": [
    "merged_data_full.head()"
   ]
  }
 ],
 "metadata": {
  "kernelspec": {
   "display_name": "Python 3 (ipykernel)",
   "language": "python",
   "name": "python3"
  },
  "language_info": {
   "codemirror_mode": {
    "name": "ipython",
    "version": 3
   },
   "file_extension": ".py",
   "mimetype": "text/x-python",
   "name": "python",
   "nbconvert_exporter": "python",
   "pygments_lexer": "ipython3",
   "version": "3.9.7"
  }
 },
 "nbformat": 4,
 "nbformat_minor": 5
}

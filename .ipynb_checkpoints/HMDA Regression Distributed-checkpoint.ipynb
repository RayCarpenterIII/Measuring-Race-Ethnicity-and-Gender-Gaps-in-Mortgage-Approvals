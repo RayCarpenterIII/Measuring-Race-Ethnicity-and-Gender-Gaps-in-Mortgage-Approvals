{
 "cells": [
  {
   "cell_type": "markdown",
   "id": "a1fd7f72-d883-4145-838a-3cdfa11f2b9f",
   "metadata": {
    "tags": []
   },
   "source": [
    "# Regress Mortgage Approvals on Race, Sex, and Other Variables"
   ]
  },
  {
   "cell_type": "markdown",
   "id": "cadab37f-4ac1-455e-9c3c-c94e702186ad",
   "metadata": {},
   "source": [
    "The purpose of this program is to regress a mortgage approval variable against race, ethnicity, gender, and other control variables found in HMDA data. This script will be designed for a distributive environment using the model below."
   ]
  },
  {
   "cell_type": "markdown",
   "id": "6d5534e4-097d-40ac-86e6-ed99981ff0b6",
   "metadata": {},
   "source": [
    "$P(Approval = 1 | Race/Sex, \\chi_ji, \\alpha_i) = \\beta_0 + \\lambda_ji * Race/Sex + \\beta_ji * \\chi_ji + \\alpha_i + \\mu $\n",
    "\n",
    "Where $\\lambda_ji$ are the variables of interest, $\\beta_ji$ are the coefficients on the control variables, \n",
    "alpha_i are the fixed effects, and $\\chi_j$ are the control variables.\n",
    "\n",
    "Variables of Interest\n",
    "- White\n",
    "- Black\n",
    "- Asian\n",
    "- Hispanic\n",
    "- Other\n",
    "- Male \n",
    "- Female\n",
    "\n",
    "Control Variables\n",
    "- Income (log)\n",
    "- Loan to Value ratio\n",
    "- Debt to Income ratio\n",
    "- Loan Amount (log)\n",
    "- Pre-Approval indicators\n",
    "\n",
    "Variables ommited in model to prevent perfect collinearity.\n",
    "- Race - White\n",
    "- Sex - Male\n",
    "\n",
    "Filters\n",
    "- Loan Purpose\n",
    "- Occupancy Type\n",
    "\n",
    "Clustered Standard errors\n",
    "- by Lender\n",
    "- by State\n",
    "- by County\n",
    "- by Census Tract"
   ]
  },
  {
   "cell_type": "code",
   "execution_count": 9,
   "id": "9a0bc5a4-8946-4426-83ad-142ee74af323",
   "metadata": {},
   "outputs": [
    {
     "name": "stdout",
     "output_type": "stream",
     "text": [
      "Num GPUs Available:  1\n",
      "Python Version 3.9.12 (main, Apr  4 2022, 05:22:27) [MSC v.1916 64 bit (AMD64)]\n",
      "TF Version 2.6.0\n"
     ]
    }
   ],
   "source": [
    "import pandas as pd\n",
    "pd.options.display.max_columns = None\n",
    "\n",
    "import numpy as np\n",
    "\n",
    "import matplotlib.pyplot as plt\n",
    "\n",
    "import tensorflow as tf\n",
    "from tensorflow import keras\n",
    "from tensorflow.keras import layers\n",
    "from tensorflow.keras.layers.experimental import preprocessing\n",
    "from tensorflow.keras.models import Sequential\n",
    "\n",
    "print(\"Num GPUs Available: \", len(tf.config.experimental.list_physical_devices('GPU')))\n",
    "import sys\n",
    "print(\"Python Version\", sys.version)\n",
    "tf.test.is_built_with_cuda()\n",
    "print(\"TF Version\", tf.version.VERSION)"
   ]
  },
  {
   "cell_type": "markdown",
   "id": "54629d63-b604-4197-ad2d-56d1f33b5f9b",
   "metadata": {},
   "source": [
    "- FE: https://www.youtube.com/watch?v=FCm3_Id6RKM\n",
    "- Custom Model: https://www.youtube.com/watch?v=S6tLSI8bjGs"
   ]
  },
  {
   "cell_type": "markdown",
   "id": "8a3bcf9f-7595-4ad4-9c68-840693fb76e4",
   "metadata": {},
   "source": [
    "### Load in Dataset"
   ]
  },
  {
   "cell_type": "code",
   "execution_count": 10,
   "id": "4eacb63a-13f9-4e4b-8cbe-0ef6da8c1376",
   "metadata": {},
   "outputs": [],
   "source": [
    "# Load in HMDA Data\n",
    "HMDA = r'HMDA Clean IL SAMPLE.csv'\n",
    "HMDA = pd.read_csv(HMDA)\n",
    "#HMDA"
   ]
  },
  {
   "cell_type": "markdown",
   "id": "3708ac15-e447-43f5-94e0-bdf31c90338f",
   "metadata": {},
   "source": [
    "### Further Cleaning"
   ]
  },
  {
   "cell_type": "code",
   "execution_count": 11,
   "id": "683d2ed0-9d09-4086-bf0d-aa03068e6757",
   "metadata": {},
   "outputs": [
    {
     "data": {
      "text/plain": [
       "Index(['index', 'Lender_LEI', 'State', 'County_Code', 'Census_Tract',\n",
       "       'Approved', 'Denied', 'Income', 'Log_Income', 'Loan_Amount',\n",
       "       'Log_Loan_Amount', 'LTV', 'Preapproval', 'Occupancy_Type', 'Year_2019',\n",
       "       'Year_2020', 'Year_2021', 'Race_0_White', 'Race_Asian', 'Race_Black',\n",
       "       'Race_Latinx', 'Race_Other', 'Sex_0_Male', 'Sex_Female',\n",
       "       'DTI_Ratio_0%-20%', 'DTI_Ratio_20%-<30%', 'DTI_Ratio_30%-<36%',\n",
       "       'DTI_Ratio_36', 'DTI_Ratio_37', 'DTI_Ratio_38', 'DTI_Ratio_39',\n",
       "       'DTI_Ratio_40', 'DTI_Ratio_41', 'DTI_Ratio_42', 'DTI_Ratio_43',\n",
       "       'DTI_Ratio_44', 'DTI_Ratio_45', 'DTI_Ratio_46', 'DTI_Ratio_47',\n",
       "       'DTI_Ratio_48', 'DTI_Ratio_49', 'DTI_Ratio_50%-60%', 'DTI_Ratio_>60%',\n",
       "       'Loan_Type_Conventional', 'Loan_Type_FHA', 'Loan_Type_RHS or FSA',\n",
       "       'Loan_Type_VA'],\n",
       "      dtype='object')"
      ]
     },
     "execution_count": 11,
     "metadata": {},
     "output_type": "execute_result"
    }
   ],
   "source": [
    "#Clean df\n",
    "HMDA_clean_1 = HMDA.copy()\n",
    "HMDA_clean_1 = HMDA_clean_1.dropna()\n",
    "HMDA_clean_1['Census_Tract'] = HMDA_clean_1['Census_Tract'].apply(str)\n",
    "\n",
    "#Filter Occupancy type to Principoal residence. Omits secondary residence purposes and investment purposes.\n",
    "# \"Occupancy_Type\" = 1, Second Residence\" = 2, \"Investment Property\" = 3.\n",
    "HMDA_clean_2_1 = HMDA_clean_1[HMDA_clean_1[\"Occupancy_Type\"] == 1]\n",
    "\n",
    "#Sets County_Code and Census_Tract as strings.\n",
    "HMDA_clean_2 = HMDA_clean_2_1.copy()\n",
    "HMDA_clean_2['County_Code'] = HMDA_clean_2['County_Code'].astype(str)\n",
    "HMDA_clean_2['Census_Tract'] = HMDA_clean_2['Census_Tract'].astype(str)\n",
    "HMDA_clean_2\n",
    "\n",
    "#Sets dummy variables for different columns\n",
    "HMDA_clean_3 = pd.get_dummies(HMDA_clean_2, columns = ['Year','Race', 'Sex', 'DTI_Ratio', 'Loan_Type'])\n",
    "HMDA_clean_3.columns"
   ]
  },
  {
   "cell_type": "code",
   "execution_count": 12,
   "id": "da830153-a00b-478d-82c2-7fc2d69b7c2c",
   "metadata": {},
   "outputs": [],
   "source": [
    "#Remove Columns to prevent Multicollinearity, remove index, and remove outcome variables. \n",
    "HMDA_clean_4 = HMDA_clean_3.drop(['Race_0_White', 'Sex_0_Male', 'DTI_Ratio_0%-20%','index'], axis = 1)\n",
    "df_clean = HMDA_clean_4.copy()"
   ]
  },
  {
   "cell_type": "markdown",
   "id": "5b217d19-dfcc-40de-b4ad-7910f5da066f",
   "metadata": {},
   "source": [
    "### Create Fixed Effects Set"
   ]
  },
  {
   "cell_type": "code",
   "execution_count": null,
   "id": "e1ee51b8-d3bb-4e69-ae5a-732f84ab9c52",
   "metadata": {},
   "outputs": [],
   "source": []
  },
  {
   "cell_type": "markdown",
   "id": "3968c6de-03d9-4ed8-ac35-60cb32433b8e",
   "metadata": {},
   "source": [
    "### Model 1 Training Set"
   ]
  },
  {
   "cell_type": "code",
   "execution_count": 13,
   "id": "be490a74-48a1-4969-8d72-b1498e52bc92",
   "metadata": {},
   "outputs": [
    {
     "data": {
      "text/plain": [
       "(184853, 34)"
      ]
     },
     "execution_count": 13,
     "metadata": {},
     "output_type": "execute_result"
    }
   ],
   "source": [
    "#Remove y variable and columns not to be used\n",
    "train_set_1 = df_clean.drop(['Denied', 'Occupancy_Type', 'Lender_LEI', 'County_Code',\n",
    "                            'Census_Tract', 'Income', 'Loan_Amount', 'Preapproval','State'], axis = 1)\n",
    "train_1 = np.array(train_set_1)\n",
    "x_1 = train_set_1.drop(['Approved'], axis = 1)\n",
    "y_1 = train_set_1['Approved']\n",
    "\n",
    "train_set_1.shape"
   ]
  },
  {
   "cell_type": "markdown",
   "id": "baff2a6a-03d4-4295-bc1a-ba869697a7fb",
   "metadata": {
    "tags": []
   },
   "source": [
    "# Model 1"
   ]
  },
  {
   "cell_type": "code",
   "execution_count": 14,
   "id": "8809da39-c86f-4da8-9cea-862d134fea47",
   "metadata": {},
   "outputs": [
    {
     "data": {
      "text/plain": [
       "[33]"
      ]
     },
     "execution_count": 14,
     "metadata": {},
     "output_type": "execute_result"
    }
   ],
   "source": [
    "[len(x_1.keys())]"
   ]
  },
  {
   "cell_type": "code",
   "execution_count": 105,
   "id": "deb60839-4188-4447-8f69-18968eba584c",
   "metadata": {},
   "outputs": [],
   "source": [
    "def build_sgd_model(training_set):\n",
    "    model = keras.Sequential([ \n",
    "        #layers.InputLayer(input_shape = (1,1)),\n",
    "        layers.Dense(1, input_shape = [len(x_1.keys())], activation = 'relu', name = 'output')\n",
    "        ])\n",
    "        \n",
    "    \n",
    "    optimizer = tf.keras.optimizers.SGD(learning_rate = .01, momentum = .3)\n",
    "    \n",
    "    model.compile(loss = 'mse',\n",
    "                  optimizer = optimizer,\n",
    "                  metrics = ['mae', 'mse'])\n",
    "    return model\n",
    "    \n",
    "model_1 = build_sgd_model(train_set_1)"
   ]
  },
  {
   "cell_type": "code",
   "execution_count": 106,
   "id": "6ba4101f-d00f-4460-b3a8-19ef32e6ba6e",
   "metadata": {},
   "outputs": [
    {
     "name": "stdout",
     "output_type": "stream",
     "text": [
      "Model: \"sequential_9\"\n",
      "_________________________________________________________________\n",
      "Layer (type)                 Output Shape              Param #   \n",
      "=================================================================\n",
      "output (Dense)               (None, 1)                 34        \n",
      "=================================================================\n",
      "Total params: 34\n",
      "Trainable params: 34\n",
      "Non-trainable params: 0\n",
      "_________________________________________________________________\n"
     ]
    }
   ],
   "source": [
    "model_1.summary()"
   ]
  },
  {
   "cell_type": "markdown",
   "id": "93ed6be6-0f2a-4c92-b369-63b54f6cd7df",
   "metadata": {},
   "source": [
    "### Train The Model"
   ]
  },
  {
   "cell_type": "code",
   "execution_count": 107,
   "id": "3491f2d1-402f-4381-a61d-4eda09b5de60",
   "metadata": {
    "collapsed": true,
    "jupyter": {
     "outputs_hidden": true
    },
    "tags": []
   },
   "outputs": [
    {
     "name": "stdout",
     "output_type": "stream",
     "text": [
      "\n",
      "....."
     ]
    }
   ],
   "source": [
    "class PrintDot(keras.callbacks.Callback):\n",
    "    def on_epoch_end(self, epoch, logs):\n",
    "        if epoch % 100 == 0: print('')\n",
    "        print('.', end = '')\n",
    "\n",
    "Epochs = 5\n",
    "\n",
    "history = model_1.fit(\n",
    "    x_1,\n",
    "    y_1,\n",
    "    epochs = Epochs,\n",
    "    verbose = 0,\n",
    "    callbacks = [PrintDot()],\n",
    "    validation_split = 0,\n",
    "    use_multiprocessing = True\n",
    "    )"
   ]
  },
  {
   "cell_type": "code",
   "execution_count": 108,
   "id": "055f9ac1-f7e5-4c7e-b6ac-95e5d8f14ac2",
   "metadata": {
    "tags": []
   },
   "outputs": [
    {
     "data": {
      "text/html": [
       "<div>\n",
       "<style scoped>\n",
       "    .dataframe tbody tr th:only-of-type {\n",
       "        vertical-align: middle;\n",
       "    }\n",
       "\n",
       "    .dataframe tbody tr th {\n",
       "        vertical-align: top;\n",
       "    }\n",
       "\n",
       "    .dataframe thead th {\n",
       "        text-align: right;\n",
       "    }\n",
       "</style>\n",
       "<table border=\"1\" class=\"dataframe\">\n",
       "  <thead>\n",
       "    <tr style=\"text-align: right;\">\n",
       "      <th></th>\n",
       "      <th>loss</th>\n",
       "      <th>mae</th>\n",
       "      <th>mse</th>\n",
       "      <th>epoch</th>\n",
       "    </tr>\n",
       "  </thead>\n",
       "  <tbody>\n",
       "    <tr>\n",
       "      <th>0</th>\n",
       "      <td>0.918718</td>\n",
       "      <td>0.917466</td>\n",
       "      <td>0.918718</td>\n",
       "      <td>0</td>\n",
       "    </tr>\n",
       "    <tr>\n",
       "      <th>1</th>\n",
       "      <td>0.917113</td>\n",
       "      <td>0.917113</td>\n",
       "      <td>0.917113</td>\n",
       "      <td>1</td>\n",
       "    </tr>\n",
       "    <tr>\n",
       "      <th>2</th>\n",
       "      <td>0.917113</td>\n",
       "      <td>0.917113</td>\n",
       "      <td>0.917113</td>\n",
       "      <td>2</td>\n",
       "    </tr>\n",
       "    <tr>\n",
       "      <th>3</th>\n",
       "      <td>0.917113</td>\n",
       "      <td>0.917113</td>\n",
       "      <td>0.917113</td>\n",
       "      <td>3</td>\n",
       "    </tr>\n",
       "    <tr>\n",
       "      <th>4</th>\n",
       "      <td>0.917113</td>\n",
       "      <td>0.917113</td>\n",
       "      <td>0.917113</td>\n",
       "      <td>4</td>\n",
       "    </tr>\n",
       "  </tbody>\n",
       "</table>\n",
       "</div>"
      ],
      "text/plain": [
       "       loss       mae       mse  epoch\n",
       "0  0.918718  0.917466  0.918718      0\n",
       "1  0.917113  0.917113  0.917113      1\n",
       "2  0.917113  0.917113  0.917113      2\n",
       "3  0.917113  0.917113  0.917113      3\n",
       "4  0.917113  0.917113  0.917113      4"
      ]
     },
     "execution_count": 108,
     "metadata": {},
     "output_type": "execute_result"
    }
   ],
   "source": [
    "hist = pd.DataFrame(history.history)\n",
    "hist['epoch'] = history.epoch\n",
    "hist"
   ]
  },
  {
   "cell_type": "code",
   "execution_count": 64,
   "id": "f4fbbd8d-0f63-431e-83d4-512b346ef407",
   "metadata": {},
   "outputs": [],
   "source": [
    "model_1.save('test model.h5')"
   ]
  },
  {
   "cell_type": "code",
   "execution_count": 57,
   "id": "536e975c-49cb-4c9a-a43c-531e0d927165",
   "metadata": {},
   "outputs": [
    {
     "name": "stdout",
     "output_type": "stream",
     "text": [
      "5777/5777 [==============================] - 5s 798us/step - loss: 0.0760 - mae: 0.1523 - mse: 0.0760\n"
     ]
    },
    {
     "data": {
      "text/plain": [
       "[0.0760369673371315, 0.15233708918094635, 0.0760369673371315]"
      ]
     },
     "execution_count": 57,
     "metadata": {},
     "output_type": "execute_result"
    }
   ],
   "source": [
    "model_1.evaluate(x_1, y_1, callbacks = [PrintDot()],use_multiprocessing = True)"
   ]
  },
  {
   "cell_type": "code",
   "execution_count": 109,
   "id": "9eeb5113-b637-4d5f-a9fd-a9a024e0adc4",
   "metadata": {},
   "outputs": [
    {
     "data": {
      "text/plain": [
       "[array([[-0.6672151 ],\n",
       "        [-1.1603408 ],\n",
       "        [-7.5232253 ],\n",
       "        [ 0.15732604],\n",
       "        [ 0.22950746],\n",
       "        [-0.3470996 ],\n",
       "        [-0.3057156 ],\n",
       "        [-0.29832223],\n",
       "        [ 0.37868693],\n",
       "        [ 0.19945171],\n",
       "        [ 0.288951  ],\n",
       "        [-0.01032618],\n",
       "        [ 0.38781   ],\n",
       "        [ 0.29603264],\n",
       "        [-0.39604366],\n",
       "        [-0.31818324],\n",
       "        [-0.22955036],\n",
       "        [ 0.31359056],\n",
       "        [-0.2198296 ],\n",
       "        [-0.213558  ],\n",
       "        [-0.22459546],\n",
       "        [ 0.17849594],\n",
       "        [-0.03501233],\n",
       "        [-0.1084208 ],\n",
       "        [-0.42035535],\n",
       "        [ 0.37922338],\n",
       "        [-0.10671175],\n",
       "        [-0.08700678],\n",
       "        [-0.12854314],\n",
       "        [-0.41781574],\n",
       "        [-0.14560299],\n",
       "        [-0.09741985],\n",
       "        [ 0.24159299]], dtype=float32),\n",
       " array([-0.08060312], dtype=float32)]"
      ]
     },
     "execution_count": 109,
     "metadata": {},
     "output_type": "execute_result"
    }
   ],
   "source": [
    "cheese = model_1.get_layer(index = 0)\n",
    "cheese.get_weights()"
   ]
  },
  {
   "cell_type": "code",
   "execution_count": null,
   "id": "559aa989-2c3f-4426-9ade-bac2d79434cd",
   "metadata": {},
   "outputs": [],
   "source": []
  },
  {
   "cell_type": "code",
   "execution_count": 19,
   "id": "851e7113-9d3e-4f83-9eef-916f5611d691",
   "metadata": {},
   "outputs": [
    {
     "ename": "SyntaxError",
     "evalue": "unexpected EOF while parsing (466573885.py, line 9)",
     "output_type": "error",
     "traceback": [
      "\u001b[1;36m  Input \u001b[1;32mIn [19]\u001b[1;36m\u001b[0m\n\u001b[1;33m    \u001b[0m\n\u001b[1;37m    ^\u001b[0m\n\u001b[1;31mSyntaxError\u001b[0m\u001b[1;31m:\u001b[0m unexpected EOF while parsing\n"
     ]
    }
   ],
   "source": [
    "def plot_history(history):\n",
    "    hist = pd.DataFrame(history.history)\n",
    "    hist['epoch'] = history.epoch\n",
    "    \n",
    "    plt.figure()\n",
    "    plt.xlabel('Epoch')\n",
    "    plt.ylabel('Mean Abs Error')\n",
    "    plt.plot(hist['epoch'], hist['mse']\n",
    "    "
   ]
  },
  {
   "cell_type": "code",
   "execution_count": null,
   "id": "35b38821-7c89-4768-95da-273bfbac4fc1",
   "metadata": {},
   "outputs": [],
   "source": []
  },
  {
   "cell_type": "code",
   "execution_count": 47,
   "id": "533ec896-cfed-49e6-8dd6-82dff17dced1",
   "metadata": {},
   "outputs": [
    {
     "data": {
      "text/plain": [
       "<bound method HMDARegress.call of <__main__.HMDARegress object at 0x000002B1422C1580>>"
      ]
     },
     "execution_count": 47,
     "metadata": {},
     "output_type": "execute_result"
    }
   ],
   "source": [
    "class HMDARegress(keras.Sequential):\n",
    "    \n",
    "    def __init__(self):\n",
    "        super().__init__()\n",
    "        self.dense = tf.keras.layers.Dense(1, activation = 'relu', name = 'output')\n",
    "        \n",
    "    def call(self, inpus, training = False):\n",
    "        x = self.dense(inputs)\n",
    "        return x\n",
    "        \n",
    "        \n",
    "model = HMDARegress()\n",
    "model.call"
   ]
  },
  {
   "cell_type": "code",
   "execution_count": null,
   "id": "28d0a11c-80af-49f0-8608-8024e2737374",
   "metadata": {},
   "outputs": [],
   "source": []
  },
  {
   "cell_type": "code",
   "execution_count": null,
   "id": "6f8ec7f6-49f4-4f33-b443-c695bc6203e6",
   "metadata": {},
   "outputs": [
    {
     "name": "stdout",
     "output_type": "stream",
     "text": [
      "Epoch 1/5\n",
      "5777/5777 [==============================] - 8s 1ms/step - loss: nan - mae: nan - mse: nan\n",
      "Epoch 2/5\n",
      "5777/5777 [==============================] - 7s 1ms/step - loss: nan - mae: nan - mse: nan\n",
      "Epoch 3/5\n",
      "5777/5777 [==============================] - 7s 1ms/step - loss: nan - mae: nan - mse: nan\n",
      "Epoch 4/5\n",
      "5777/5777 [==============================] - 8s 1ms/step - loss: nan - mae: nan - mse: nan\n",
      "Epoch 5/5\n",
      "5777/5777 [==============================] - 8s 1ms/step - loss: nan - mae: nan - mse: nan\n"
     ]
    }
   ],
   "source": [
    "def linreg(x, y, Epochs):\n",
    "    model = tf.keras.experimental.LinearModel()        \n",
    "    \n",
    "    optimizer = tf.keras.optimizers.SGD(learning_rate = .01, momentum = .3)\n",
    "    \n",
    "    model.compile(loss = 'mse',\n",
    "                  optimizer = optimizer,\n",
    "                  metrics = ['mae', 'mse'])\n",
    "    \n",
    "    model.fit(x, y, epochs = Epochs)\n",
    "    \n",
    "    return model\n",
    "    \n",
    "model_1 = linreg(x_1, y_1, 5)"
   ]
  },
  {
   "cell_type": "code",
   "execution_count": 71,
   "id": "fa1272e5-9c88-4013-add7-290ca327de46",
   "metadata": {},
   "outputs": [
    {
     "name": "stdout",
     "output_type": "stream",
     "text": [
      "INFO:tensorflow:Assets written to: test1.tf\\assets\n"
     ]
    }
   ],
   "source": [
    "model_1.save('test1.tf')"
   ]
  },
  {
   "cell_type": "code",
   "execution_count": 91,
   "id": "3486e78d-b9e9-42ea-aae5-d07fd5583168",
   "metadata": {},
   "outputs": [
    {
     "data": {
      "text/plain": [
       "[array([[nan],\n",
       "        [nan],\n",
       "        [nan],\n",
       "        [nan],\n",
       "        [nan],\n",
       "        [nan],\n",
       "        [nan],\n",
       "        [nan],\n",
       "        [nan],\n",
       "        [nan],\n",
       "        [nan],\n",
       "        [nan],\n",
       "        [nan],\n",
       "        [nan],\n",
       "        [nan],\n",
       "        [nan],\n",
       "        [nan],\n",
       "        [nan],\n",
       "        [nan],\n",
       "        [nan],\n",
       "        [nan],\n",
       "        [nan],\n",
       "        [nan],\n",
       "        [nan],\n",
       "        [nan],\n",
       "        [nan],\n",
       "        [nan],\n",
       "        [nan],\n",
       "        [nan],\n",
       "        [nan],\n",
       "        [nan],\n",
       "        [nan],\n",
       "        [nan]], dtype=float32)]"
      ]
     },
     "execution_count": 91,
     "metadata": {},
     "output_type": "execute_result"
    }
   ],
   "source": [
    "cheese = model_1.get_layer(index = 0)\n",
    "cheese.get_weights()"
   ]
  },
  {
   "cell_type": "code",
   "execution_count": null,
   "id": "33510097-22a4-4d92-bbce-2718b6d7b458",
   "metadata": {},
   "outputs": [],
   "source": []
  }
 ],
 "metadata": {
  "kernelspec": {
   "display_name": "Python 3 (ipykernel)",
   "language": "python",
   "name": "python3"
  },
  "language_info": {
   "codemirror_mode": {
    "name": "ipython",
    "version": 3
   },
   "file_extension": ".py",
   "mimetype": "text/x-python",
   "name": "python",
   "nbconvert_exporter": "python",
   "pygments_lexer": "ipython3",
   "version": "3.9.12"
  }
 },
 "nbformat": 4,
 "nbformat_minor": 5
}

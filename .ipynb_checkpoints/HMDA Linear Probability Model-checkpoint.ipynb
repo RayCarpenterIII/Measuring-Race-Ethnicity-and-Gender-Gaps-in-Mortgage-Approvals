{
 "cells": [
  {
   "cell_type": "markdown",
   "id": "58480b77-a6cc-4c5c-b16a-978509aaf048",
   "metadata": {
    "tags": []
   },
   "source": [
    "# Linear Probability Model"
   ]
  },
  {
   "cell_type": "markdown",
   "id": "c1d29827-63e1-4a6f-a49d-5ad6dd260e96",
   "metadata": {},
   "source": [
    "The purpose of this program is to regress a mortgage approval variable against race, ethnicity, gender, and other control variables found in HMDA data. Using the model below."
   ]
  },
  {
   "cell_type": "markdown",
   "id": "67b9f169-46c6-45e6-9f1a-f158599b5aa4",
   "metadata": {},
   "source": [
    "$P(Approval = 1 | Race/Sex, \\chi_j) = \\beta_0 + \\lambda_j * Race/Sex + \\beta_j * \\chi_j + \\mu $\n",
    "\n",
    "Where $\\lambda_j$ are the variables of interest, $\\beta_j$ are the coefficients on the control variables, and $\\chi_j$ are the control variables.\n",
    "\n",
    "Variables of Interest\n",
    "- White\n",
    "- Black\n",
    "- Asian\n",
    "- Hispanic\n",
    "- Other\n",
    "- Male \n",
    "- Female\n",
    "\n",
    "Control Variables\n",
    "- Income (log)\n",
    "- Loan to Value ratio\n",
    "- Debt to Income ratio\n",
    "- Loan Amount (log)\n",
    "- Pre-Approval indicators\n",
    "\n",
    "Fixed Effects - maybe include\n",
    "- Lender\n",
    "- Region Indicators by Community Tract  or county\n",
    "\n",
    "Variables ommited in model to prevent perfect collinearity.\n",
    "- White\n",
    "- Male\n",
    "\n",
    "Filters\n",
    "- Loan Purpose\n",
    "- Occupancy Type\n",
    "\n",
    "Clustered Standard errors\n",
    "- by Lender\n",
    "- by Region\n",
    "- by County\n",
    "\n",
    "Other regressions to run that will use similar controls.\n",
    "- Simplified Model(Just variables of interest)\n",
    "- Restricted Model\n",
    "- Interest Rates\n",
    "- Denial Rates\n",
    "- Fixed Effects Model\n",
    "- Years other than 2019"
   ]
  },
  {
   "cell_type": "code",
   "execution_count": null,
   "id": "e48cdc3c-ee60-433c-860e-deb1a9883264",
   "metadata": {
    "tags": []
   },
   "outputs": [],
   "source": [
    "import pandas as pd\n",
    "import numpy as np\n",
    "from linearmodels import PanelOLS\n",
    "import statsmodels.api as sm\n",
    "from statsmodels.formula.api import ols\n",
    "\n",
    "# np.set_printoptions(precision=3, suppress=True)\n",
    "\n",
    "#This will allow all columns to be displayed when reviewing the data.\n",
    "pd.options.display.max_columns = None"
   ]
  },
  {
   "cell_type": "code",
   "execution_count": null,
   "id": "fdea6a7a-f66e-40d2-baf3-cac31bbdc3a2",
   "metadata": {
    "jupyter": {
     "source_hidden": true
    },
    "tags": []
   },
   "outputs": [],
   "source": [
    "'''\n",
    "import tensorflow as tf\n",
    "\n",
    "from tensorflow import keras\n",
    "from tensorflow.keras import layers\n",
    "from tensorflow.keras.layers.experimental import preprocessing\n",
    "\n",
    "print(\"Num GPUs Available: \", len(tf.config.experimental.list_physical_devices('GPU')))\n",
    "tf.test.is_built_with_cuda()\n",
    "print(tf.version.VERSION)\n",
    "import sys\n",
    "print(sys.version)\n",
    "gpu = len(tf.config.list_physical_devices('GPU'))>0\n",
    "print(\"GPU is\", \"available\" if gpu else \"NOT AVAILABLE\")\n",
    "'''"
   ]
  },
  {
   "cell_type": "markdown",
   "id": "fbca5bc1-636b-4ee1-b5c5-5f8f4a0a3bf8",
   "metadata": {},
   "source": [
    "## Load in and manipulate dataset.\n",
    "\n",
    "Below is for manipulating the dataset before running it through the funciton."
   ]
  },
  {
   "cell_type": "code",
   "execution_count": null,
   "id": "4efa1235-bdff-4b81-8a66-28b23c04999b",
   "metadata": {
    "tags": []
   },
   "outputs": [],
   "source": [
    "# Load in HMDA Data\n",
    "HMDA_clean_file_location = r'2019 HMDA Clean IL SAMPLE.csv'\n",
    "HMDA_clean_0 = pd.read_csv(HMDA_clean_file_location)\n",
    "HMDA_clean_0"
   ]
  },
  {
   "cell_type": "code",
   "execution_count": null,
   "id": "4f62bcc0-f63e-4f04-90c6-25e6040872c9",
   "metadata": {},
   "outputs": [],
   "source": [
    "#HMDA_clean.columns"
   ]
  },
  {
   "cell_type": "markdown",
   "id": "11f33be1-09c8-4f77-9408-6c5d787d3643",
   "metadata": {
    "tags": []
   },
   "source": [
    "### Check for further cleaning"
   ]
  },
  {
   "cell_type": "code",
   "execution_count": null,
   "id": "020ab3a6-007e-469d-8b46-fface7b7a296",
   "metadata": {},
   "outputs": [],
   "source": [
    "#HMDA_clean.info()"
   ]
  },
  {
   "cell_type": "code",
   "execution_count": null,
   "id": "8d39eed3-270e-4d5b-9e8a-d644cbcd8948",
   "metadata": {},
   "outputs": [],
   "source": [
    "#Clean df\n",
    "HMDA_clean_1 = HMDA_clean_0.copy()\n",
    "HMDA_clean_1 = HMDA_clean_1.dropna()\n",
    "HMDA_clean_1['Census_Tract'] = HMDA_clean_1['Census_Tract'].apply(str)\n",
    "#HMDA_clean.info()"
   ]
  },
  {
   "cell_type": "markdown",
   "id": "35f3b494-9f20-4069-8d1a-0939585625d3",
   "metadata": {},
   "source": [
    "Below filters the occupancy type to Principal residence. It omits secondary residence purposes and investment purposes."
   ]
  },
  {
   "cell_type": "code",
   "execution_count": null,
   "id": "753a28e8-9388-4727-b3ae-9a6cd0e93b57",
   "metadata": {},
   "outputs": [],
   "source": [
    "# \"Occupancy_Type\" = 1, Second Residence\" = 2, \"Investment Property\" = 3.\n",
    "HMDA_clean = HMDA_clean_1[HMDA_clean_1[\"Occupancy_Type\"] == 1]"
   ]
  },
  {
   "cell_type": "markdown",
   "id": "be74d6e0-f7e1-434e-a69c-fd7ea8debdfd",
   "metadata": {
    "tags": []
   },
   "source": [
    "### Model 0 - Race*Sex Interaction Only"
   ]
  },
  {
   "cell_type": "code",
   "execution_count": 2,
   "id": "d9c0800d-14c1-412c-b65b-51bfbbe27c68",
   "metadata": {
    "tags": []
   },
   "outputs": [
    {
     "ename": "NameError",
     "evalue": "name 'ols' is not defined",
     "output_type": "error",
     "traceback": [
      "\u001b[1;31m---------------------------------------------------------------------------\u001b[0m",
      "\u001b[1;31mNameError\u001b[0m                                 Traceback (most recent call last)",
      "\u001b[1;32m~\\AppData\\Local\\Temp/ipykernel_18584/2254168968.py\u001b[0m in \u001b[0;36m<module>\u001b[1;34m\u001b[0m\n\u001b[1;32m----> 1\u001b[1;33m \u001b[0mNo_Controls_Model\u001b[0m \u001b[1;33m=\u001b[0m \u001b[0mols\u001b[0m\u001b[1;33m(\u001b[0m\u001b[1;34m\"Approved ~ Race*Sex\"\u001b[0m\u001b[1;33m,\u001b[0m \u001b[0mdata\u001b[0m \u001b[1;33m=\u001b[0m \u001b[0mHMDA_clean\u001b[0m\u001b[1;33m)\u001b[0m\u001b[1;33m.\u001b[0m\u001b[0mfit\u001b[0m\u001b[1;33m(\u001b[0m\u001b[0mcov_type\u001b[0m \u001b[1;33m=\u001b[0m \u001b[1;34m'Cluster'\u001b[0m\u001b[1;33m,\u001b[0m \u001b[0mcov_kwds\u001b[0m \u001b[1;33m=\u001b[0m \u001b[1;33m{\u001b[0m\u001b[1;34m'groups'\u001b[0m\u001b[1;33m:\u001b[0m \u001b[0mHMDA_clean\u001b[0m\u001b[1;33m[\u001b[0m\u001b[1;34m'County_Code'\u001b[0m\u001b[1;33m]\u001b[0m\u001b[1;33m}\u001b[0m\u001b[1;33m)\u001b[0m\u001b[1;33m\u001b[0m\u001b[1;33m\u001b[0m\u001b[0m\n\u001b[0m\u001b[0;32m      2\u001b[0m \u001b[0mNo_Controls_Model\u001b[0m\u001b[1;33m.\u001b[0m\u001b[0msummary\u001b[0m\u001b[1;33m(\u001b[0m\u001b[1;33m)\u001b[0m\u001b[1;33m\u001b[0m\u001b[1;33m\u001b[0m\u001b[0m\n",
      "\u001b[1;31mNameError\u001b[0m: name 'ols' is not defined"
     ]
    }
   ],
   "source": [
    "No_Controls_Model = ols(\"Approved ~ Race*Sex\", data = HMDA_clean).fit(cov_type = 'Cluster', cov_kwds = {'groups': HMDA_clean['County_Code']})\n",
    "No_Controls_Model.summary()"
   ]
  },
  {
   "cell_type": "markdown",
   "id": "92e47d82-6ebf-4f8d-afe2-a6a0834af829",
   "metadata": {
    "tags": []
   },
   "source": [
    "### Model 1 - Indicators Only"
   ]
  },
  {
   "cell_type": "code",
   "execution_count": 3,
   "id": "7af06a93-0561-4455-be07-ca92351855e4",
   "metadata": {
    "tags": []
   },
   "outputs": [
    {
     "ename": "NameError",
     "evalue": "name 'ols' is not defined",
     "output_type": "error",
     "traceback": [
      "\u001b[1;31m---------------------------------------------------------------------------\u001b[0m",
      "\u001b[1;31mNameError\u001b[0m                                 Traceback (most recent call last)",
      "\u001b[1;32m~\\AppData\\Local\\Temp/ipykernel_18584/3200055252.py\u001b[0m in \u001b[0;36m<module>\u001b[1;34m\u001b[0m\n\u001b[0;32m      1\u001b[0m \u001b[1;31m#omit ['White', 'Not Hispanic', 'Male','DTI_less_than_20']\u001b[0m\u001b[1;33m\u001b[0m\u001b[1;33m\u001b[0m\u001b[0m\n\u001b[0;32m      2\u001b[0m \u001b[1;31m#don't forget to add census tract, lei, and relationships\u001b[0m\u001b[1;33m\u001b[0m\u001b[1;33m\u001b[0m\u001b[0m\n\u001b[1;32m----> 3\u001b[1;33m Model_1 = ols(\"Approved ~ Race + Sex\\\n\u001b[0m\u001b[0;32m      4\u001b[0m           \u001b[1;33m+\u001b[0m \u001b[0mLTV\u001b[0m \u001b[1;33m+\u001b[0m \u001b[0mDTI_Ratio\u001b[0m \u001b[1;33m+\u001b[0m \u001b[0mLender_LEI\u001b[0m \u001b[1;33m+\u001b[0m \u001b[0mCensus_Tract\u001b[0m\u001b[0;31m\\\u001b[0m\u001b[1;33m\u001b[0m\u001b[1;33m\u001b[0m\u001b[0m\n\u001b[0;32m      5\u001b[0m           + Log_Income + Log_Loan_Amount\", data = HMDA_clean).fit(cov_type = 'Cluster', cov_kwds = {'groups': HMDA_clean['County_Code']})\n",
      "\u001b[1;31mNameError\u001b[0m: name 'ols' is not defined"
     ]
    }
   ],
   "source": [
    "#omit ['White', 'Not Hispanic', 'Male','DTI_less_than_20']\n",
    "#don't forget to add census tract, lei, and relationships\n",
    "Model_1 = ols(\"Approved ~ Race + Sex\\\n",
    "          + LTV + DTI_Ratio + Lender_LEI + Census_Tract\\\n",
    "          + Log_Income + Log_Loan_Amount\", data = HMDA_clean).fit(cov_type = 'Cluster', cov_kwds = {'groups': HMDA_clean['County_Code']})\n",
    "Model_1.summary()"
   ]
  },
  {
   "cell_type": "markdown",
   "id": "214387d7-2b1b-4547-ac6b-8fae217049f4",
   "metadata": {},
   "source": [
    "### Model 2 - Race/Ethnicity/Sex Interactions"
   ]
  },
  {
   "cell_type": "code",
   "execution_count": 4,
   "id": "ae809539-4f3f-4244-8bfd-e623091fa9c3",
   "metadata": {
    "tags": []
   },
   "outputs": [
    {
     "ename": "NameError",
     "evalue": "name 'ols' is not defined",
     "output_type": "error",
     "traceback": [
      "\u001b[1;31m---------------------------------------------------------------------------\u001b[0m",
      "\u001b[1;31mNameError\u001b[0m                                 Traceback (most recent call last)",
      "\u001b[1;32m~\\AppData\\Local\\Temp/ipykernel_18584/2815027647.py\u001b[0m in \u001b[0;36m<module>\u001b[1;34m\u001b[0m\n\u001b[1;32m----> 1\u001b[1;33m Model_2 = ols(\"Approved ~ Race*Ethnicity*Sex\\\n\u001b[0m\u001b[0;32m      2\u001b[0m           \u001b[1;33m+\u001b[0m \u001b[0mLTV\u001b[0m \u001b[1;33m+\u001b[0m \u001b[0mDTI_Ratio\u001b[0m \u001b[1;33m+\u001b[0m \u001b[0mLender_LEI\u001b[0m \u001b[1;33m+\u001b[0m \u001b[0mCensus_Tract\u001b[0m\u001b[0;31m\\\u001b[0m\u001b[1;33m\u001b[0m\u001b[1;33m\u001b[0m\u001b[0m\n\u001b[0;32m      3\u001b[0m           + Log_Income + Log_Loan_Amount\", data = HMDA_clean).fit(cov_type = 'Cluster', cov_kwds = {'groups': HMDA_clean['County_Code']})\n\u001b[0;32m      4\u001b[0m \u001b[0mModel_2\u001b[0m\u001b[1;33m.\u001b[0m\u001b[0msummary\u001b[0m\u001b[1;33m(\u001b[0m\u001b[1;33m)\u001b[0m\u001b[1;33m\u001b[0m\u001b[1;33m\u001b[0m\u001b[0m\n",
      "\u001b[1;31mNameError\u001b[0m: name 'ols' is not defined"
     ]
    }
   ],
   "source": [
    "Model_2 = ols(\"Approved ~ Race*Ethnicity*Sex\\\n",
    "          + LTV + DTI_Ratio + Lender_LEI + Census_Tract\\\n",
    "          + Log_Income + Log_Loan_Amount\", data = HMDA_clean).fit(cov_type = 'Cluster', cov_kwds = {'groups': HMDA_clean['County_Code']})\n",
    "Model_2.summary()"
   ]
  },
  {
   "cell_type": "markdown",
   "id": "e78506f8-3933-4e50-8f2e-b5763da8d05f",
   "metadata": {
    "tags": []
   },
   "source": [
    "### Model 3 - DTI/LTV Interactions"
   ]
  },
  {
   "cell_type": "code",
   "execution_count": 5,
   "id": "49708b9e-a74d-4f2b-8625-73f1df1ec181",
   "metadata": {
    "tags": []
   },
   "outputs": [
    {
     "ename": "NameError",
     "evalue": "name 'ols' is not defined",
     "output_type": "error",
     "traceback": [
      "\u001b[1;31m---------------------------------------------------------------------------\u001b[0m",
      "\u001b[1;31mNameError\u001b[0m                                 Traceback (most recent call last)",
      "\u001b[1;32m~\\AppData\\Local\\Temp/ipykernel_18584/2954394194.py\u001b[0m in \u001b[0;36m<module>\u001b[1;34m\u001b[0m\n\u001b[1;32m----> 1\u001b[1;33m Model_3 = ols(\"Approved ~ Race*Sex\\\n\u001b[0m\u001b[0;32m      2\u001b[0m           \u001b[1;33m+\u001b[0m \u001b[0mLTV\u001b[0m\u001b[1;33m*\u001b[0m\u001b[0mDTI_Ratio\u001b[0m \u001b[1;33m+\u001b[0m \u001b[0mLender_LEI\u001b[0m \u001b[1;33m+\u001b[0m \u001b[0mCensus_Tract\u001b[0m\u001b[0;31m\\\u001b[0m\u001b[1;33m\u001b[0m\u001b[1;33m\u001b[0m\u001b[0m\n\u001b[0;32m      3\u001b[0m           + Log_Income + Log_Loan_Amount\", data = HMDA_clean).fit(cov_type = 'Cluster', cov_kwds = {'groups': HMDA_clean['County_Code']})\n\u001b[0;32m      4\u001b[0m \u001b[0mModel_3\u001b[0m\u001b[1;33m.\u001b[0m\u001b[0msummary\u001b[0m\u001b[1;33m(\u001b[0m\u001b[1;33m)\u001b[0m\u001b[1;33m\u001b[0m\u001b[1;33m\u001b[0m\u001b[0m\n",
      "\u001b[1;31mNameError\u001b[0m: name 'ols' is not defined"
     ]
    }
   ],
   "source": [
    "Model_3 = ols(\"Approved ~ Race*Sex\\\n",
    "          + LTV*DTI_Ratio + Lender_LEI + Census_Tract\\\n",
    "          + Log_Income + Log_Loan_Amount\", data = HMDA_clean).fit(cov_type = 'Cluster', cov_kwds = {'groups': HMDA_clean['County_Code']})\n",
    "Model_3.summary()"
   ]
  },
  {
   "cell_type": "markdown",
   "id": "ca29a4c2-b4d1-4371-9410-cb96d4b05a8b",
   "metadata": {},
   "source": [
    "### Model 4 - Lender and Census_Tract Interaction"
   ]
  },
  {
   "cell_type": "code",
   "execution_count": 6,
   "id": "1a31ccdb-1d35-4bc7-9247-844d70d64929",
   "metadata": {},
   "outputs": [
    {
     "ename": "NameError",
     "evalue": "name 'ols' is not defined",
     "output_type": "error",
     "traceback": [
      "\u001b[1;31m---------------------------------------------------------------------------\u001b[0m",
      "\u001b[1;31mNameError\u001b[0m                                 Traceback (most recent call last)",
      "\u001b[1;32m~\\AppData\\Local\\Temp/ipykernel_18584/1768938996.py\u001b[0m in \u001b[0;36m<module>\u001b[1;34m\u001b[0m\n\u001b[1;32m----> 1\u001b[1;33m Model_4 = ols(\"Approved ~ Race*Sex\\\n\u001b[0m\u001b[0;32m      2\u001b[0m           \u001b[1;33m+\u001b[0m \u001b[0mLTV\u001b[0m\u001b[1;33m*\u001b[0m\u001b[0mDTI_Ratio\u001b[0m \u001b[1;33m+\u001b[0m \u001b[0mLender_LEI\u001b[0m\u001b[1;33m*\u001b[0m\u001b[0mCensus_Tract\u001b[0m\u001b[0;31m\\\u001b[0m\u001b[1;33m\u001b[0m\u001b[1;33m\u001b[0m\u001b[0m\n\u001b[0;32m      3\u001b[0m           + Log_Income + Log_Loan_Amount\", data = HMDA_clean).fit(cov_type = 'Cluster', cov_kwds = {'groups': HMDA_clean['County_Code']})\n\u001b[0;32m      4\u001b[0m \u001b[0mModel_4\u001b[0m\u001b[1;33m.\u001b[0m\u001b[0msummary\u001b[0m\u001b[1;33m(\u001b[0m\u001b[1;33m)\u001b[0m\u001b[1;33m\u001b[0m\u001b[1;33m\u001b[0m\u001b[0m\n",
      "\u001b[1;31mNameError\u001b[0m: name 'ols' is not defined"
     ]
    }
   ],
   "source": [
    "Model_4 = ols(\"Approved ~ Race*Sex\\\n",
    "          + LTV*DTI_Ratio + Lender_LEI*Census_Tract\\\n",
    "          + Log_Income + Log_Loan_Amount\", data = HMDA_clean).fit(cov_type = 'Cluster', cov_kwds = {'groups': HMDA_clean['County_Code']})\n",
    "Model_4.summary()"
   ]
  },
  {
   "cell_type": "markdown",
   "id": "3e06aa89-b234-431e-a237-7519b9930667",
   "metadata": {
    "tags": []
   },
   "source": [
    "### Model 5 - Approval and Loan type indicators"
   ]
  },
  {
   "cell_type": "code",
   "execution_count": null,
   "id": "c8a99202-da46-42eb-ab4f-4b6146c091f2",
   "metadata": {
    "tags": []
   },
   "outputs": [],
   "source": [
    "Model_5 = ols(\"Approved ~ Race*Sex\\\n",
    "          + LTV*DTI_Ratio + Lender_LEI*Census_Tract\\\n",
    "          + Log_Income + Log_Loan_Amount\\\n",
    "          + C(preapproval) + C(Loan_Type)\", data = HMDA_clean).fit(cov_type = 'Cluster', cov_kwds = {'groups': HMDA_clean['County_Code']})\n",
    "Model_5.summary"
   ]
  },
  {
   "cell_type": "markdown",
   "id": "8e55a2c2-02b6-4177-bf83-7d32b69e72f8",
   "metadata": {},
   "source": [
    "# Model Summaries"
   ]
  },
  {
   "cell_type": "code",
   "execution_count": null,
   "id": "4986fb23-22d8-4f41-a3d4-ccd9b917cb5e",
   "metadata": {},
   "outputs": [],
   "source": [
    "LPM_Model_Variables = {\n",
    "    'Model' : [0,1,2,3,4,5],\n",
    "    'Black' : [],\n",
    "    'Asian' : [],\n",
    "    'Latinx' : [],\n",
    "    'Other' : [],\n",
    "    'Female' : [], \n",
    "    'LTV' : [],\n",
    "    'DTI' : [],\n",
    "    'Lender' : [],\n",
    "    'Census Tract' : [],\n",
    "    'PreApproval + Loan Type' : [0,0,0,0,0,1],\n",
    "    'Lender/Census Tract Interactions' : [0,0],\n",
    "    'Race/Sex Interactions' : [1,0,1,1,1,1],\n",
    "    'LTV/DTI Interactions' : [0],\n",
    "    }"
   ]
  }
 ],
 "metadata": {
  "kernelspec": {
   "display_name": "Python 3 (ipykernel)",
   "language": "python",
   "name": "python3"
  },
  "language_info": {
   "codemirror_mode": {
    "name": "ipython",
    "version": 3
   },
   "file_extension": ".py",
   "mimetype": "text/x-python",
   "name": "python",
   "nbconvert_exporter": "python",
   "pygments_lexer": "ipython3",
   "version": "3.9.7"
  }
 },
 "nbformat": 4,
 "nbformat_minor": 5
}

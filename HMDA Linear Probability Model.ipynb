{
 "cells": [
  {
   "cell_type": "markdown",
   "id": "58480b77-a6cc-4c5c-b16a-978509aaf048",
   "metadata": {
    "tags": []
   },
   "source": [
    "# Linear Probability Model"
   ]
  },
  {
   "cell_type": "markdown",
   "id": "c1d29827-63e1-4a6f-a49d-5ad6dd260e96",
   "metadata": {},
   "source": [
    "The purpose of this program is to regress a mortgage approval variable against race, ethnicity, gender, and other control variables found in HMDA data. Using the model below."
   ]
  },
  {
   "cell_type": "markdown",
   "id": "67b9f169-46c6-45e6-9f1a-f158599b5aa4",
   "metadata": {},
   "source": [
    "$P(Approval = 1 | Race/Sex, \\chi_j) = \\beta_0 + \\lambda_j * Race/Sex + \\beta_j * \\chi_j + \\mu $\n",
    "\n",
    "Where $\\lambda_j$ are the variables of interest, $\\beta_j$ are the coefficients on the control variables, and $\\chi_j$ are the control variables.\n",
    "\n",
    "Variables of Interest\n",
    "- White\n",
    "- Black\n",
    "- Asian\n",
    "- Hispanic\n",
    "- Other\n",
    "- Male \n",
    "- Female\n",
    "\n",
    "Control Variables\n",
    "- Income (log)\n",
    "- Loan to Value ratio\n",
    "- Debt to Income ratio\n",
    "- Loan Amount (log)\n",
    "- Pre-Approval indicators\n",
    "\n",
    "Fixed Effects - maybe include\n",
    "- Lender\n",
    "- Region Indicators by Community Tract  or county\n",
    "\n",
    "Variables ommited in model to prevent perfect collinearity.\n",
    "- White\n",
    "- Male\n",
    "\n",
    "Filters\n",
    "- Loan Purpose\n",
    "- Occupancy Type\n",
    "\n",
    "Clustered Standard errors\n",
    "- by Lender\n",
    "- by Region\n",
    "- by County\n",
    "\n",
    "Other regressions to run that will use similar controls.\n",
    "- Simplified Model(Just variables of interest)\n",
    "- Restricted Model\n",
    "- Interest Rates\n",
    "- Denial Rates\n",
    "- Fixed Effects Model\n",
    "- Years other than 2019"
   ]
  },
  {
   "cell_type": "code",
   "execution_count": 24,
   "id": "e48cdc3c-ee60-433c-860e-deb1a9883264",
   "metadata": {
    "tags": []
   },
   "outputs": [],
   "source": [
    "import pandas as pd\n",
    "import numpy as np\n",
    "from linearmodels import PanelOLS\n",
    "import statsmodels.api as sm\n",
    "from statsmodels.formula.api import ols\n",
    "\n",
    "# np.set_printoptions(precision=3, suppress=True)\n",
    "\n",
    "#This will allow all columns to be displayed when reviewing the data.\n",
    "pd.options.display.max_columns = None"
   ]
  },
  {
   "cell_type": "code",
   "execution_count": 25,
   "id": "fdea6a7a-f66e-40d2-baf3-cac31bbdc3a2",
   "metadata": {
    "tags": []
   },
   "outputs": [
    {
     "data": {
      "text/plain": [
       "'\\nimport tensorflow as tf\\n\\nfrom tensorflow import keras\\nfrom tensorflow.keras import layers\\nfrom tensorflow.keras.layers.experimental import preprocessing\\n\\nprint(\"Num GPUs Available: \", len(tf.config.experimental.list_physical_devices(\\'GPU\\')))\\ntf.test.is_built_with_cuda()\\nprint(tf.version.VERSION)\\nimport sys\\nprint(sys.version)\\ngpu = len(tf.config.list_physical_devices(\\'GPU\\'))>0\\nprint(\"GPU is\", \"available\" if gpu else \"NOT AVAILABLE\")\\n'"
      ]
     },
     "execution_count": 25,
     "metadata": {},
     "output_type": "execute_result"
    }
   ],
   "source": [
    "'''\n",
    "import tensorflow as tf\n",
    "\n",
    "from tensorflow import keras\n",
    "from tensorflow.keras import layers\n",
    "from tensorflow.keras.layers.experimental import preprocessing\n",
    "\n",
    "print(\"Num GPUs Available: \", len(tf.config.experimental.list_physical_devices('GPU')))\n",
    "tf.test.is_built_with_cuda()\n",
    "print(tf.version.VERSION)\n",
    "import sys\n",
    "print(sys.version)\n",
    "gpu = len(tf.config.list_physical_devices('GPU'))>0\n",
    "print(\"GPU is\", \"available\" if gpu else \"NOT AVAILABLE\")\n",
    "'''"
   ]
  },
  {
   "cell_type": "markdown",
   "id": "fbca5bc1-636b-4ee1-b5c5-5f8f4a0a3bf8",
   "metadata": {},
   "source": [
    "## Load in and manipulate dataset.\n",
    "\n",
    "Below is for manipulating the dataset before running it through the funciton."
   ]
  },
  {
   "cell_type": "code",
   "execution_count": 26,
   "id": "4efa1235-bdff-4b81-8a66-28b23c04999b",
   "metadata": {
    "tags": []
   },
   "outputs": [
    {
     "data": {
      "text/html": [
       "<div>\n",
       "<style scoped>\n",
       "    .dataframe tbody tr th:only-of-type {\n",
       "        vertical-align: middle;\n",
       "    }\n",
       "\n",
       "    .dataframe tbody tr th {\n",
       "        vertical-align: top;\n",
       "    }\n",
       "\n",
       "    .dataframe thead th {\n",
       "        text-align: right;\n",
       "    }\n",
       "</style>\n",
       "<table border=\"1\" class=\"dataframe\">\n",
       "  <thead>\n",
       "    <tr style=\"text-align: right;\">\n",
       "      <th></th>\n",
       "      <th>Year</th>\n",
       "      <th>Lender_LEI</th>\n",
       "      <th>State</th>\n",
       "      <th>County_Code</th>\n",
       "      <th>Census_Tract</th>\n",
       "      <th>Approved</th>\n",
       "      <th>Denied</th>\n",
       "      <th>Race</th>\n",
       "      <th>Sex</th>\n",
       "      <th>Income</th>\n",
       "      <th>Log_Income</th>\n",
       "      <th>Loan_Amount</th>\n",
       "      <th>Log_Loan_Amount</th>\n",
       "      <th>LTV</th>\n",
       "      <th>Loan_Type</th>\n",
       "      <th>DTI_Ratio</th>\n",
       "      <th>preapproval</th>\n",
       "      <th>Occupancy_Type</th>\n",
       "      <th>Index</th>\n",
       "    </tr>\n",
       "  </thead>\n",
       "  <tbody>\n",
       "    <tr>\n",
       "      <th>0</th>\n",
       "      <td>2019</td>\n",
       "      <td>549300U3721PJGQZYY68</td>\n",
       "      <td>IL</td>\n",
       "      <td>17031.0</td>\n",
       "      <td>1.703183e+10</td>\n",
       "      <td>1</td>\n",
       "      <td>0</td>\n",
       "      <td>Black</td>\n",
       "      <td>Female</td>\n",
       "      <td>54.0</td>\n",
       "      <td>3.988984</td>\n",
       "      <td>155000.0</td>\n",
       "      <td>11.951180</td>\n",
       "      <td>99.690</td>\n",
       "      <td>Conventional</td>\n",
       "      <td>44</td>\n",
       "      <td>2</td>\n",
       "      <td>1</td>\n",
       "      <td>497447</td>\n",
       "    </tr>\n",
       "    <tr>\n",
       "      <th>1</th>\n",
       "      <td>2019</td>\n",
       "      <td>2WHM8VNJH63UN14OL754</td>\n",
       "      <td>IL</td>\n",
       "      <td>17031.0</td>\n",
       "      <td>1.703105e+10</td>\n",
       "      <td>1</td>\n",
       "      <td>0</td>\n",
       "      <td>0_White</td>\n",
       "      <td>0_Male</td>\n",
       "      <td>164.0</td>\n",
       "      <td>5.099866</td>\n",
       "      <td>375000.0</td>\n",
       "      <td>12.834681</td>\n",
       "      <td>90.000</td>\n",
       "      <td>Conventional</td>\n",
       "      <td>38</td>\n",
       "      <td>2</td>\n",
       "      <td>1</td>\n",
       "      <td>485056</td>\n",
       "    </tr>\n",
       "    <tr>\n",
       "      <th>2</th>\n",
       "      <td>2019</td>\n",
       "      <td>549300BRJZYHYKT4BJ84</td>\n",
       "      <td>IL</td>\n",
       "      <td>17063.0</td>\n",
       "      <td>1.706300e+10</td>\n",
       "      <td>1</td>\n",
       "      <td>0</td>\n",
       "      <td>Latinx</td>\n",
       "      <td>Female</td>\n",
       "      <td>53.0</td>\n",
       "      <td>3.970292</td>\n",
       "      <td>155000.0</td>\n",
       "      <td>11.951180</td>\n",
       "      <td>101.010</td>\n",
       "      <td>RHS or FSA</td>\n",
       "      <td>36</td>\n",
       "      <td>2</td>\n",
       "      <td>1</td>\n",
       "      <td>89546</td>\n",
       "    </tr>\n",
       "    <tr>\n",
       "      <th>3</th>\n",
       "      <td>2019</td>\n",
       "      <td>549300RBX56T2MW5HO19</td>\n",
       "      <td>IL</td>\n",
       "      <td>17031.0</td>\n",
       "      <td>1.703161e+10</td>\n",
       "      <td>0</td>\n",
       "      <td>1</td>\n",
       "      <td>Black</td>\n",
       "      <td>0_Male</td>\n",
       "      <td>71.0</td>\n",
       "      <td>4.262680</td>\n",
       "      <td>355000.0</td>\n",
       "      <td>12.779873</td>\n",
       "      <td>100.000</td>\n",
       "      <td>VA</td>\n",
       "      <td>37</td>\n",
       "      <td>2</td>\n",
       "      <td>1</td>\n",
       "      <td>97097</td>\n",
       "    </tr>\n",
       "    <tr>\n",
       "      <th>4</th>\n",
       "      <td>2019</td>\n",
       "      <td>549300HGDJQ37M5BE268</td>\n",
       "      <td>IL</td>\n",
       "      <td>17167.0</td>\n",
       "      <td>1.716700e+10</td>\n",
       "      <td>1</td>\n",
       "      <td>0</td>\n",
       "      <td>0_White</td>\n",
       "      <td>Female</td>\n",
       "      <td>44.0</td>\n",
       "      <td>3.784190</td>\n",
       "      <td>165000.0</td>\n",
       "      <td>12.013701</td>\n",
       "      <td>97.000</td>\n",
       "      <td>Conventional</td>\n",
       "      <td>41</td>\n",
       "      <td>2</td>\n",
       "      <td>1</td>\n",
       "      <td>116672</td>\n",
       "    </tr>\n",
       "    <tr>\n",
       "      <th>...</th>\n",
       "      <td>...</td>\n",
       "      <td>...</td>\n",
       "      <td>...</td>\n",
       "      <td>...</td>\n",
       "      <td>...</td>\n",
       "      <td>...</td>\n",
       "      <td>...</td>\n",
       "      <td>...</td>\n",
       "      <td>...</td>\n",
       "      <td>...</td>\n",
       "      <td>...</td>\n",
       "      <td>...</td>\n",
       "      <td>...</td>\n",
       "      <td>...</td>\n",
       "      <td>...</td>\n",
       "      <td>...</td>\n",
       "      <td>...</td>\n",
       "      <td>...</td>\n",
       "      <td>...</td>\n",
       "    </tr>\n",
       "    <tr>\n",
       "      <th>22470</th>\n",
       "      <td>2019</td>\n",
       "      <td>549300FGXN1K3HLB1R50</td>\n",
       "      <td>IL</td>\n",
       "      <td>17031.0</td>\n",
       "      <td>1.703183e+10</td>\n",
       "      <td>1</td>\n",
       "      <td>0</td>\n",
       "      <td>0_White</td>\n",
       "      <td>0_Male</td>\n",
       "      <td>177.0</td>\n",
       "      <td>5.176150</td>\n",
       "      <td>155000.0</td>\n",
       "      <td>11.951180</td>\n",
       "      <td>95.000</td>\n",
       "      <td>Conventional</td>\n",
       "      <td>20%-&lt;30%</td>\n",
       "      <td>2</td>\n",
       "      <td>1</td>\n",
       "      <td>188823</td>\n",
       "    </tr>\n",
       "    <tr>\n",
       "      <th>22471</th>\n",
       "      <td>2019</td>\n",
       "      <td>549300SELI3XCH3UZW80</td>\n",
       "      <td>IL</td>\n",
       "      <td>17089.0</td>\n",
       "      <td>1.708985e+10</td>\n",
       "      <td>1</td>\n",
       "      <td>0</td>\n",
       "      <td>0_White</td>\n",
       "      <td>Female</td>\n",
       "      <td>74.0</td>\n",
       "      <td>4.304065</td>\n",
       "      <td>255000.0</td>\n",
       "      <td>12.449019</td>\n",
       "      <td>95.000</td>\n",
       "      <td>Conventional</td>\n",
       "      <td>49</td>\n",
       "      <td>2</td>\n",
       "      <td>1</td>\n",
       "      <td>7044</td>\n",
       "    </tr>\n",
       "    <tr>\n",
       "      <th>22472</th>\n",
       "      <td>2019</td>\n",
       "      <td>KV8W1JTB8FZ821S5ED75</td>\n",
       "      <td>IL</td>\n",
       "      <td>17097.0</td>\n",
       "      <td>1.709786e+10</td>\n",
       "      <td>0</td>\n",
       "      <td>1</td>\n",
       "      <td>0_White</td>\n",
       "      <td>0_Male</td>\n",
       "      <td>98.0</td>\n",
       "      <td>4.584967</td>\n",
       "      <td>325000.0</td>\n",
       "      <td>12.691580</td>\n",
       "      <td>90.000</td>\n",
       "      <td>Conventional</td>\n",
       "      <td>42</td>\n",
       "      <td>2</td>\n",
       "      <td>1</td>\n",
       "      <td>326056</td>\n",
       "    </tr>\n",
       "    <tr>\n",
       "      <th>22473</th>\n",
       "      <td>2019</td>\n",
       "      <td>254900D8UVDBN0LNLV64</td>\n",
       "      <td>IL</td>\n",
       "      <td>17031.0</td>\n",
       "      <td>1.703126e+10</td>\n",
       "      <td>1</td>\n",
       "      <td>0</td>\n",
       "      <td>Latinx</td>\n",
       "      <td>Female</td>\n",
       "      <td>48.0</td>\n",
       "      <td>3.871201</td>\n",
       "      <td>195000.0</td>\n",
       "      <td>12.180755</td>\n",
       "      <td>96.500</td>\n",
       "      <td>FHA</td>\n",
       "      <td>50%-60%</td>\n",
       "      <td>2</td>\n",
       "      <td>1</td>\n",
       "      <td>472329</td>\n",
       "    </tr>\n",
       "    <tr>\n",
       "      <th>22474</th>\n",
       "      <td>2019</td>\n",
       "      <td>KB1H1DSPRFMYMCUFXT09</td>\n",
       "      <td>IL</td>\n",
       "      <td>17167.0</td>\n",
       "      <td>1.716700e+10</td>\n",
       "      <td>1</td>\n",
       "      <td>0</td>\n",
       "      <td>0_White</td>\n",
       "      <td>Female</td>\n",
       "      <td>81.0</td>\n",
       "      <td>4.394449</td>\n",
       "      <td>145000.0</td>\n",
       "      <td>11.884489</td>\n",
       "      <td>87.805</td>\n",
       "      <td>Conventional</td>\n",
       "      <td>30%-&lt;36%</td>\n",
       "      <td>2</td>\n",
       "      <td>1</td>\n",
       "      <td>269377</td>\n",
       "    </tr>\n",
       "  </tbody>\n",
       "</table>\n",
       "<p>22475 rows × 19 columns</p>\n",
       "</div>"
      ],
      "text/plain": [
       "       Year            Lender_LEI State  County_Code  Census_Tract  Approved  \\\n",
       "0      2019  549300U3721PJGQZYY68    IL      17031.0  1.703183e+10         1   \n",
       "1      2019  2WHM8VNJH63UN14OL754    IL      17031.0  1.703105e+10         1   \n",
       "2      2019  549300BRJZYHYKT4BJ84    IL      17063.0  1.706300e+10         1   \n",
       "3      2019  549300RBX56T2MW5HO19    IL      17031.0  1.703161e+10         0   \n",
       "4      2019  549300HGDJQ37M5BE268    IL      17167.0  1.716700e+10         1   \n",
       "...     ...                   ...   ...          ...           ...       ...   \n",
       "22470  2019  549300FGXN1K3HLB1R50    IL      17031.0  1.703183e+10         1   \n",
       "22471  2019  549300SELI3XCH3UZW80    IL      17089.0  1.708985e+10         1   \n",
       "22472  2019  KV8W1JTB8FZ821S5ED75    IL      17097.0  1.709786e+10         0   \n",
       "22473  2019  254900D8UVDBN0LNLV64    IL      17031.0  1.703126e+10         1   \n",
       "22474  2019  KB1H1DSPRFMYMCUFXT09    IL      17167.0  1.716700e+10         1   \n",
       "\n",
       "       Denied     Race     Sex  Income  Log_Income  Loan_Amount  \\\n",
       "0           0    Black  Female    54.0    3.988984     155000.0   \n",
       "1           0  0_White  0_Male   164.0    5.099866     375000.0   \n",
       "2           0   Latinx  Female    53.0    3.970292     155000.0   \n",
       "3           1    Black  0_Male    71.0    4.262680     355000.0   \n",
       "4           0  0_White  Female    44.0    3.784190     165000.0   \n",
       "...       ...      ...     ...     ...         ...          ...   \n",
       "22470       0  0_White  0_Male   177.0    5.176150     155000.0   \n",
       "22471       0  0_White  Female    74.0    4.304065     255000.0   \n",
       "22472       1  0_White  0_Male    98.0    4.584967     325000.0   \n",
       "22473       0   Latinx  Female    48.0    3.871201     195000.0   \n",
       "22474       0  0_White  Female    81.0    4.394449     145000.0   \n",
       "\n",
       "       Log_Loan_Amount      LTV     Loan_Type DTI_Ratio  preapproval  \\\n",
       "0            11.951180   99.690  Conventional        44            2   \n",
       "1            12.834681   90.000  Conventional        38            2   \n",
       "2            11.951180  101.010    RHS or FSA        36            2   \n",
       "3            12.779873  100.000            VA        37            2   \n",
       "4            12.013701   97.000  Conventional        41            2   \n",
       "...                ...      ...           ...       ...          ...   \n",
       "22470        11.951180   95.000  Conventional  20%-<30%            2   \n",
       "22471        12.449019   95.000  Conventional        49            2   \n",
       "22472        12.691580   90.000  Conventional        42            2   \n",
       "22473        12.180755   96.500           FHA   50%-60%            2   \n",
       "22474        11.884489   87.805  Conventional  30%-<36%            2   \n",
       "\n",
       "       Occupancy_Type   Index  \n",
       "0                   1  497447  \n",
       "1                   1  485056  \n",
       "2                   1   89546  \n",
       "3                   1   97097  \n",
       "4                   1  116672  \n",
       "...               ...     ...  \n",
       "22470               1  188823  \n",
       "22471               1    7044  \n",
       "22472               1  326056  \n",
       "22473               1  472329  \n",
       "22474               1  269377  \n",
       "\n",
       "[22475 rows x 19 columns]"
      ]
     },
     "execution_count": 26,
     "metadata": {},
     "output_type": "execute_result"
    }
   ],
   "source": [
    "# Load in HMDA Data\n",
    "HMDA_clean_file_location = r'2019 HMDA Clean IL SAMPLE.csv'\n",
    "HMDA_clean_0 = pd.read_csv(HMDA_clean_file_location)\n",
    "HMDA_clean_0"
   ]
  },
  {
   "cell_type": "code",
   "execution_count": 27,
   "id": "4f62bcc0-f63e-4f04-90c6-25e6040872c9",
   "metadata": {},
   "outputs": [
    {
     "data": {
      "text/plain": [
       "Index(['Year', 'Lender_LEI', 'State', 'County_Code', 'Census_Tract',\n",
       "       'Approved', 'Denied', 'Race', 'Sex', 'Income', 'Log_Income',\n",
       "       'Loan_Amount', 'Log_Loan_Amount', 'LTV', 'Loan_Type', 'DTI_Ratio',\n",
       "       'preapproval', 'Occupancy_Type', 'Index'],\n",
       "      dtype='object')"
      ]
     },
     "execution_count": 27,
     "metadata": {},
     "output_type": "execute_result"
    }
   ],
   "source": [
    "HMDA_clean_0.columns"
   ]
  },
  {
   "cell_type": "markdown",
   "id": "11f33be1-09c8-4f77-9408-6c5d787d3643",
   "metadata": {
    "tags": []
   },
   "source": [
    "### Check for further cleaning"
   ]
  },
  {
   "cell_type": "code",
   "execution_count": 28,
   "id": "020ab3a6-007e-469d-8b46-fface7b7a296",
   "metadata": {},
   "outputs": [],
   "source": [
    "#HMDA_clean.info()"
   ]
  },
  {
   "cell_type": "code",
   "execution_count": 29,
   "id": "8d39eed3-270e-4d5b-9e8a-d644cbcd8948",
   "metadata": {},
   "outputs": [],
   "source": [
    "#Clean df\n",
    "HMDA_clean_1 = HMDA_clean_0.copy()\n",
    "HMDA_clean_1 = HMDA_clean_1.dropna()\n",
    "HMDA_clean_1['Census_Tract'] = HMDA_clean_1['Census_Tract'].apply(str)\n",
    "#HMDA_clean.info()"
   ]
  },
  {
   "cell_type": "markdown",
   "id": "35f3b494-9f20-4069-8d1a-0939585625d3",
   "metadata": {},
   "source": [
    "Below filters the occupancy type to Principal residence. It omits secondary residence purposes and investment purposes."
   ]
  },
  {
   "cell_type": "code",
   "execution_count": 30,
   "id": "753a28e8-9388-4727-b3ae-9a6cd0e93b57",
   "metadata": {},
   "outputs": [],
   "source": [
    "# \"Occupancy_Type\" = 1, Second Residence\" = 2, \"Investment Property\" = 3.\n",
    "HMDA_clean = HMDA_clean_1[HMDA_clean_1[\"Occupancy_Type\"] == 1]"
   ]
  },
  {
   "cell_type": "markdown",
   "id": "be74d6e0-f7e1-434e-a69c-fd7ea8debdfd",
   "metadata": {
    "tags": []
   },
   "source": [
    "### Model 0 - Race*Sex Interaction Only"
   ]
  },
  {
   "cell_type": "code",
   "execution_count": 31,
   "id": "d9c0800d-14c1-412c-b65b-51bfbbe27c68",
   "metadata": {
    "tags": []
   },
   "outputs": [
    {
     "data": {
      "text/html": [
       "<table class=\"simpletable\">\n",
       "<caption>OLS Regression Results</caption>\n",
       "<tr>\n",
       "  <th>Dep. Variable:</th>        <td>Approved</td>     <th>  R-squared:         </th> <td>   0.014</td> \n",
       "</tr>\n",
       "<tr>\n",
       "  <th>Model:</th>                   <td>OLS</td>       <th>  Adj. R-squared:    </th> <td>   0.014</td> \n",
       "</tr>\n",
       "<tr>\n",
       "  <th>Method:</th>             <td>Least Squares</td>  <th>  F-statistic:       </th> <td>   63.57</td> \n",
       "</tr>\n",
       "<tr>\n",
       "  <th>Date:</th>             <td>Fri, 17 Jun 2022</td> <th>  Prob (F-statistic):</th> <td>8.11e-116</td>\n",
       "</tr>\n",
       "<tr>\n",
       "  <th>Time:</th>                 <td>12:09:24</td>     <th>  Log-Likelihood:    </th> <td> -3254.5</td> \n",
       "</tr>\n",
       "<tr>\n",
       "  <th>No. Observations:</th>      <td> 21213</td>      <th>  AIC:               </th> <td>   6529.</td> \n",
       "</tr>\n",
       "<tr>\n",
       "  <th>Df Residuals:</th>          <td> 21203</td>      <th>  BIC:               </th> <td>   6609.</td> \n",
       "</tr>\n",
       "<tr>\n",
       "  <th>Df Model:</th>              <td>     9</td>      <th>                     </th>     <td> </td>    \n",
       "</tr>\n",
       "<tr>\n",
       "  <th>Covariance Type:</th>       <td>Cluster</td>     <th>                     </th>     <td> </td>    \n",
       "</tr>\n",
       "</table>\n",
       "<table class=\"simpletable\">\n",
       "<tr>\n",
       "                <td></td>                  <th>coef</th>     <th>std err</th>      <th>z</th>      <th>P>|z|</th>  <th>[0.025</th>    <th>0.975]</th>  \n",
       "</tr>\n",
       "<tr>\n",
       "  <th>Intercept</th>                    <td>    0.9329</td> <td>    0.003</td> <td>  300.563</td> <td> 0.000</td> <td>    0.927</td> <td>    0.939</td>\n",
       "</tr>\n",
       "<tr>\n",
       "  <th>Race[T.Asian]</th>                <td>   -0.0219</td> <td>    0.008</td> <td>   -2.914</td> <td> 0.004</td> <td>   -0.037</td> <td>   -0.007</td>\n",
       "</tr>\n",
       "<tr>\n",
       "  <th>Race[T.Black]</th>                <td>   -0.0891</td> <td>    0.015</td> <td>   -5.837</td> <td> 0.000</td> <td>   -0.119</td> <td>   -0.059</td>\n",
       "</tr>\n",
       "<tr>\n",
       "  <th>Race[T.Latinx]</th>               <td>   -0.0670</td> <td>    0.012</td> <td>   -5.486</td> <td> 0.000</td> <td>   -0.091</td> <td>   -0.043</td>\n",
       "</tr>\n",
       "<tr>\n",
       "  <th>Race[T.Other]</th>                <td>   -0.1037</td> <td>    0.065</td> <td>   -1.585</td> <td> 0.113</td> <td>   -0.232</td> <td>    0.025</td>\n",
       "</tr>\n",
       "<tr>\n",
       "  <th>Sex[T.Female]</th>                <td>   -0.0030</td> <td>    0.006</td> <td>   -0.522</td> <td> 0.602</td> <td>   -0.014</td> <td>    0.008</td>\n",
       "</tr>\n",
       "<tr>\n",
       "  <th>Race[T.Asian]:Sex[T.Female]</th>  <td>    0.0101</td> <td>    0.014</td> <td>    0.719</td> <td> 0.472</td> <td>   -0.017</td> <td>    0.038</td>\n",
       "</tr>\n",
       "<tr>\n",
       "  <th>Race[T.Black]:Sex[T.Female]</th>  <td>   -0.0166</td> <td>    0.011</td> <td>   -1.539</td> <td> 0.124</td> <td>   -0.038</td> <td>    0.005</td>\n",
       "</tr>\n",
       "<tr>\n",
       "  <th>Race[T.Latinx]:Sex[T.Female]</th> <td>    0.0122</td> <td>    0.013</td> <td>    0.915</td> <td> 0.360</td> <td>   -0.014</td> <td>    0.038</td>\n",
       "</tr>\n",
       "<tr>\n",
       "  <th>Race[T.Other]:Sex[T.Female]</th>  <td>   -0.0081</td> <td>    0.101</td> <td>   -0.080</td> <td> 0.936</td> <td>   -0.206</td> <td>    0.190</td>\n",
       "</tr>\n",
       "</table>\n",
       "<table class=\"simpletable\">\n",
       "<tr>\n",
       "  <th>Omnibus:</th>       <td>11794.524</td> <th>  Durbin-Watson:     </th> <td>   2.000</td> \n",
       "</tr>\n",
       "<tr>\n",
       "  <th>Prob(Omnibus):</th>  <td> 0.000</td>   <th>  Jarque-Bera (JB):  </th> <td>62829.791</td>\n",
       "</tr>\n",
       "<tr>\n",
       "  <th>Skew:</th>           <td>-2.837</td>   <th>  Prob(JB):          </th> <td>    0.00</td> \n",
       "</tr>\n",
       "<tr>\n",
       "  <th>Kurtosis:</th>       <td> 9.236</td>   <th>  Cond. No.          </th> <td>    45.6</td> \n",
       "</tr>\n",
       "</table><br/><br/>Notes:<br/>[1] Standard Errors are robust to cluster correlation (cluster)"
      ],
      "text/plain": [
       "<class 'statsmodels.iolib.summary.Summary'>\n",
       "\"\"\"\n",
       "                            OLS Regression Results                            \n",
       "==============================================================================\n",
       "Dep. Variable:               Approved   R-squared:                       0.014\n",
       "Model:                            OLS   Adj. R-squared:                  0.014\n",
       "Method:                 Least Squares   F-statistic:                     63.57\n",
       "Date:                Fri, 17 Jun 2022   Prob (F-statistic):          8.11e-116\n",
       "Time:                        12:09:24   Log-Likelihood:                -3254.5\n",
       "No. Observations:               21213   AIC:                             6529.\n",
       "Df Residuals:                   21203   BIC:                             6609.\n",
       "Df Model:                           9                                         \n",
       "Covariance Type:              Cluster                                         \n",
       "================================================================================================\n",
       "                                   coef    std err          z      P>|z|      [0.025      0.975]\n",
       "------------------------------------------------------------------------------------------------\n",
       "Intercept                        0.9329      0.003    300.563      0.000       0.927       0.939\n",
       "Race[T.Asian]                   -0.0219      0.008     -2.914      0.004      -0.037      -0.007\n",
       "Race[T.Black]                   -0.0891      0.015     -5.837      0.000      -0.119      -0.059\n",
       "Race[T.Latinx]                  -0.0670      0.012     -5.486      0.000      -0.091      -0.043\n",
       "Race[T.Other]                   -0.1037      0.065     -1.585      0.113      -0.232       0.025\n",
       "Sex[T.Female]                   -0.0030      0.006     -0.522      0.602      -0.014       0.008\n",
       "Race[T.Asian]:Sex[T.Female]      0.0101      0.014      0.719      0.472      -0.017       0.038\n",
       "Race[T.Black]:Sex[T.Female]     -0.0166      0.011     -1.539      0.124      -0.038       0.005\n",
       "Race[T.Latinx]:Sex[T.Female]     0.0122      0.013      0.915      0.360      -0.014       0.038\n",
       "Race[T.Other]:Sex[T.Female]     -0.0081      0.101     -0.080      0.936      -0.206       0.190\n",
       "==============================================================================\n",
       "Omnibus:                    11794.524   Durbin-Watson:                   2.000\n",
       "Prob(Omnibus):                  0.000   Jarque-Bera (JB):            62829.791\n",
       "Skew:                          -2.837   Prob(JB):                         0.00\n",
       "Kurtosis:                       9.236   Cond. No.                         45.6\n",
       "==============================================================================\n",
       "\n",
       "Notes:\n",
       "[1] Standard Errors are robust to cluster correlation (cluster)\n",
       "\"\"\""
      ]
     },
     "execution_count": 31,
     "metadata": {},
     "output_type": "execute_result"
    }
   ],
   "source": [
    "No_Controls_Model = ols(\"Approved ~ Race*Sex\", data = HMDA_clean).fit(cov_type = 'Cluster', cov_kwds = {'groups': HMDA_clean['County_Code']})\n",
    "No_Controls_Model.summary()"
   ]
  },
  {
   "cell_type": "markdown",
   "id": "92e47d82-6ebf-4f8d-afe2-a6a0834af829",
   "metadata": {
    "tags": []
   },
   "source": [
    "### Model 1 - Indicators Only"
   ]
  },
  {
   "cell_type": "code",
   "execution_count": 3,
   "id": "7af06a93-0561-4455-be07-ca92351855e4",
   "metadata": {
    "tags": []
   },
   "outputs": [
    {
     "ename": "NameError",
     "evalue": "name 'ols' is not defined",
     "output_type": "error",
     "traceback": [
      "\u001b[1;31m---------------------------------------------------------------------------\u001b[0m",
      "\u001b[1;31mNameError\u001b[0m                                 Traceback (most recent call last)",
      "\u001b[1;32m~\\AppData\\Local\\Temp/ipykernel_18584/3200055252.py\u001b[0m in \u001b[0;36m<module>\u001b[1;34m\u001b[0m\n\u001b[0;32m      1\u001b[0m \u001b[1;31m#omit ['White', 'Not Hispanic', 'Male','DTI_less_than_20']\u001b[0m\u001b[1;33m\u001b[0m\u001b[1;33m\u001b[0m\u001b[0m\n\u001b[0;32m      2\u001b[0m \u001b[1;31m#don't forget to add census tract, lei, and relationships\u001b[0m\u001b[1;33m\u001b[0m\u001b[1;33m\u001b[0m\u001b[0m\n\u001b[1;32m----> 3\u001b[1;33m Model_1 = ols(\"Approved ~ Race + Sex\\\n\u001b[0m\u001b[0;32m      4\u001b[0m           \u001b[1;33m+\u001b[0m \u001b[0mLTV\u001b[0m \u001b[1;33m+\u001b[0m \u001b[0mDTI_Ratio\u001b[0m \u001b[1;33m+\u001b[0m \u001b[0mLender_LEI\u001b[0m \u001b[1;33m+\u001b[0m \u001b[0mCensus_Tract\u001b[0m\u001b[0;31m\\\u001b[0m\u001b[1;33m\u001b[0m\u001b[1;33m\u001b[0m\u001b[0m\n\u001b[0;32m      5\u001b[0m           + Log_Income + Log_Loan_Amount\", data = HMDA_clean).fit(cov_type = 'Cluster', cov_kwds = {'groups': HMDA_clean['County_Code']})\n",
      "\u001b[1;31mNameError\u001b[0m: name 'ols' is not defined"
     ]
    }
   ],
   "source": [
    "#omit ['White', 'Not Hispanic', 'Male','DTI_less_than_20']\n",
    "#don't forget to add census tract, lei, and relationships\n",
    "Model_1 = ols(\"Approved ~ Race + Sex\\\n",
    "          + LTV + DTI_Ratio + Lender_LEI + Census_Tract\\\n",
    "          + Log_Income + Log_Loan_Amount\", data = HMDA_clean).fit(cov_type = 'Cluster', cov_kwds = {'groups': HMDA_clean['County_Code']})\n",
    "Model_1.summary()"
   ]
  },
  {
   "cell_type": "markdown",
   "id": "214387d7-2b1b-4547-ac6b-8fae217049f4",
   "metadata": {},
   "source": [
    "### Model 2 - Race/Ethnicity/Sex Interactions"
   ]
  },
  {
   "cell_type": "code",
   "execution_count": 4,
   "id": "ae809539-4f3f-4244-8bfd-e623091fa9c3",
   "metadata": {
    "tags": []
   },
   "outputs": [
    {
     "ename": "NameError",
     "evalue": "name 'ols' is not defined",
     "output_type": "error",
     "traceback": [
      "\u001b[1;31m---------------------------------------------------------------------------\u001b[0m",
      "\u001b[1;31mNameError\u001b[0m                                 Traceback (most recent call last)",
      "\u001b[1;32m~\\AppData\\Local\\Temp/ipykernel_18584/2815027647.py\u001b[0m in \u001b[0;36m<module>\u001b[1;34m\u001b[0m\n\u001b[1;32m----> 1\u001b[1;33m Model_2 = ols(\"Approved ~ Race*Ethnicity*Sex\\\n\u001b[0m\u001b[0;32m      2\u001b[0m           \u001b[1;33m+\u001b[0m \u001b[0mLTV\u001b[0m \u001b[1;33m+\u001b[0m \u001b[0mDTI_Ratio\u001b[0m \u001b[1;33m+\u001b[0m \u001b[0mLender_LEI\u001b[0m \u001b[1;33m+\u001b[0m \u001b[0mCensus_Tract\u001b[0m\u001b[0;31m\\\u001b[0m\u001b[1;33m\u001b[0m\u001b[1;33m\u001b[0m\u001b[0m\n\u001b[0;32m      3\u001b[0m           + Log_Income + Log_Loan_Amount\", data = HMDA_clean).fit(cov_type = 'Cluster', cov_kwds = {'groups': HMDA_clean['County_Code']})\n\u001b[0;32m      4\u001b[0m \u001b[0mModel_2\u001b[0m\u001b[1;33m.\u001b[0m\u001b[0msummary\u001b[0m\u001b[1;33m(\u001b[0m\u001b[1;33m)\u001b[0m\u001b[1;33m\u001b[0m\u001b[1;33m\u001b[0m\u001b[0m\n",
      "\u001b[1;31mNameError\u001b[0m: name 'ols' is not defined"
     ]
    }
   ],
   "source": [
    "Model_2 = ols(\"Approved ~ Race*Ethnicity*Sex\\\n",
    "          + LTV + DTI_Ratio + Lender_LEI + Census_Tract\\\n",
    "          + Log_Income + Log_Loan_Amount\", data = HMDA_clean).fit(cov_type = 'Cluster', cov_kwds = {'groups': HMDA_clean['County_Code']})\n",
    "Model_2.summary()"
   ]
  },
  {
   "cell_type": "markdown",
   "id": "e78506f8-3933-4e50-8f2e-b5763da8d05f",
   "metadata": {
    "tags": []
   },
   "source": [
    "### Model 3 - DTI/LTV Interactions"
   ]
  },
  {
   "cell_type": "code",
   "execution_count": 5,
   "id": "49708b9e-a74d-4f2b-8625-73f1df1ec181",
   "metadata": {
    "tags": []
   },
   "outputs": [
    {
     "ename": "NameError",
     "evalue": "name 'ols' is not defined",
     "output_type": "error",
     "traceback": [
      "\u001b[1;31m---------------------------------------------------------------------------\u001b[0m",
      "\u001b[1;31mNameError\u001b[0m                                 Traceback (most recent call last)",
      "\u001b[1;32m~\\AppData\\Local\\Temp/ipykernel_18584/2954394194.py\u001b[0m in \u001b[0;36m<module>\u001b[1;34m\u001b[0m\n\u001b[1;32m----> 1\u001b[1;33m Model_3 = ols(\"Approved ~ Race*Sex\\\n\u001b[0m\u001b[0;32m      2\u001b[0m           \u001b[1;33m+\u001b[0m \u001b[0mLTV\u001b[0m\u001b[1;33m*\u001b[0m\u001b[0mDTI_Ratio\u001b[0m \u001b[1;33m+\u001b[0m \u001b[0mLender_LEI\u001b[0m \u001b[1;33m+\u001b[0m \u001b[0mCensus_Tract\u001b[0m\u001b[0;31m\\\u001b[0m\u001b[1;33m\u001b[0m\u001b[1;33m\u001b[0m\u001b[0m\n\u001b[0;32m      3\u001b[0m           + Log_Income + Log_Loan_Amount\", data = HMDA_clean).fit(cov_type = 'Cluster', cov_kwds = {'groups': HMDA_clean['County_Code']})\n\u001b[0;32m      4\u001b[0m \u001b[0mModel_3\u001b[0m\u001b[1;33m.\u001b[0m\u001b[0msummary\u001b[0m\u001b[1;33m(\u001b[0m\u001b[1;33m)\u001b[0m\u001b[1;33m\u001b[0m\u001b[1;33m\u001b[0m\u001b[0m\n",
      "\u001b[1;31mNameError\u001b[0m: name 'ols' is not defined"
     ]
    }
   ],
   "source": [
    "Model_3 = ols(\"Approved ~ Race*Sex\\\n",
    "          + LTV*DTI_Ratio + Lender_LEI + Census_Tract\\\n",
    "          + Log_Income + Log_Loan_Amount\", data = HMDA_clean).fit(cov_type = 'Cluster', cov_kwds = {'groups': HMDA_clean['County_Code']})\n",
    "Model_3.summary()"
   ]
  },
  {
   "cell_type": "markdown",
   "id": "ca29a4c2-b4d1-4371-9410-cb96d4b05a8b",
   "metadata": {},
   "source": [
    "### Model 4 - Lender and Census_Tract Interaction"
   ]
  },
  {
   "cell_type": "code",
   "execution_count": 6,
   "id": "1a31ccdb-1d35-4bc7-9247-844d70d64929",
   "metadata": {},
   "outputs": [
    {
     "ename": "NameError",
     "evalue": "name 'ols' is not defined",
     "output_type": "error",
     "traceback": [
      "\u001b[1;31m---------------------------------------------------------------------------\u001b[0m",
      "\u001b[1;31mNameError\u001b[0m                                 Traceback (most recent call last)",
      "\u001b[1;32m~\\AppData\\Local\\Temp/ipykernel_18584/1768938996.py\u001b[0m in \u001b[0;36m<module>\u001b[1;34m\u001b[0m\n\u001b[1;32m----> 1\u001b[1;33m Model_4 = ols(\"Approved ~ Race*Sex\\\n\u001b[0m\u001b[0;32m      2\u001b[0m           \u001b[1;33m+\u001b[0m \u001b[0mLTV\u001b[0m\u001b[1;33m*\u001b[0m\u001b[0mDTI_Ratio\u001b[0m \u001b[1;33m+\u001b[0m \u001b[0mLender_LEI\u001b[0m\u001b[1;33m*\u001b[0m\u001b[0mCensus_Tract\u001b[0m\u001b[0;31m\\\u001b[0m\u001b[1;33m\u001b[0m\u001b[1;33m\u001b[0m\u001b[0m\n\u001b[0;32m      3\u001b[0m           + Log_Income + Log_Loan_Amount\", data = HMDA_clean).fit(cov_type = 'Cluster', cov_kwds = {'groups': HMDA_clean['County_Code']})\n\u001b[0;32m      4\u001b[0m \u001b[0mModel_4\u001b[0m\u001b[1;33m.\u001b[0m\u001b[0msummary\u001b[0m\u001b[1;33m(\u001b[0m\u001b[1;33m)\u001b[0m\u001b[1;33m\u001b[0m\u001b[1;33m\u001b[0m\u001b[0m\n",
      "\u001b[1;31mNameError\u001b[0m: name 'ols' is not defined"
     ]
    }
   ],
   "source": [
    "Model_4 = ols(\"Approved ~ Race*Sex\\\n",
    "          + LTV*DTI_Ratio + Lender_LEI*Census_Tract\\\n",
    "          + Log_Income + Log_Loan_Amount\", data = HMDA_clean).fit(cov_type = 'Cluster', cov_kwds = {'groups': HMDA_clean['County_Code']})\n",
    "Model_4.summary()"
   ]
  },
  {
   "cell_type": "markdown",
   "id": "3e06aa89-b234-431e-a237-7519b9930667",
   "metadata": {
    "tags": []
   },
   "source": [
    "### Model 5 - Approval and Loan type indicators"
   ]
  },
  {
   "cell_type": "code",
   "execution_count": null,
   "id": "c8a99202-da46-42eb-ab4f-4b6146c091f2",
   "metadata": {
    "tags": []
   },
   "outputs": [],
   "source": [
    "Model_5 = ols(\"Approved ~ Race*Sex\\\n",
    "          + LTV*DTI_Ratio + Lender_LEI*Census_Tract\\\n",
    "          + Log_Income + Log_Loan_Amount\\\n",
    "          + C(preapproval) + C(Loan_Type)\", data = HMDA_clean).fit(cov_type = 'Cluster', cov_kwds = {'groups': HMDA_clean['County_Code']})\n",
    "Model_5.summary"
   ]
  },
  {
   "cell_type": "markdown",
   "id": "8e55a2c2-02b6-4177-bf83-7d32b69e72f8",
   "metadata": {},
   "source": [
    "# Model Summaries"
   ]
  },
  {
   "cell_type": "code",
   "execution_count": null,
   "id": "4986fb23-22d8-4f41-a3d4-ccd9b917cb5e",
   "metadata": {},
   "outputs": [],
   "source": [
    "LPM_Model_Variables = {\n",
    "    'Model' : [0,1,2,3,4,5],\n",
    "    'Black' : [],\n",
    "    'Asian' : [],\n",
    "    'Latinx' : [],\n",
    "    'Other' : [],\n",
    "    'Female' : [], \n",
    "    'LTV' : [],\n",
    "    'DTI' : [],\n",
    "    'Lender' : [],\n",
    "    'Census Tract' : [],\n",
    "    'PreApproval + Loan Type' : [0,0,0,0,0,1],\n",
    "    'Lender/Census Tract Interactions' : [0,0],\n",
    "    'Race/Sex Interactions' : [1,0,1,1,1,1],\n",
    "    'LTV/DTI Interactions' : [0],\n",
    "    }"
   ]
  }
 ],
 "metadata": {
  "kernelspec": {
   "display_name": "Python 3 (ipykernel)",
   "language": "python",
   "name": "python3"
  },
  "language_info": {
   "codemirror_mode": {
    "name": "ipython",
    "version": 3
   },
   "file_extension": ".py",
   "mimetype": "text/x-python",
   "name": "python",
   "nbconvert_exporter": "python",
   "pygments_lexer": "ipython3",
   "version": "3.9.7"
  }
 },
 "nbformat": 4,
 "nbformat_minor": 5
}

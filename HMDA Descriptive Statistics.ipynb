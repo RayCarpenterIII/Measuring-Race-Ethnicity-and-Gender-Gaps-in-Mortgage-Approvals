{
 "cells": [
  {
   "cell_type": "markdown",
   "id": "99fc7401-e692-4eef-b9ab-96698750620b",
   "metadata": {},
   "source": [
    "# HMDA Descriptive Statistics"
   ]
  },
  {
   "cell_type": "markdown",
   "id": "1b20222c-d01a-45c7-a8cb-082995ae03ac",
   "metadata": {},
   "source": [
    "The purpose of this program is to perform descriptive statistics on the HMDA data set after it is cleaned."
   ]
  },
  {
   "cell_type": "markdown",
   "id": "115f6459-251f-43ae-9b86-39ed4d375230",
   "metadata": {},
   "source": [
    "### Statistics List"
   ]
  },
  {
   "cell_type": "markdown",
   "id": "d8eeea36-63d5-46ac-9828-70b7e3684737",
   "metadata": {},
   "source": [
    "- Demographic Summary Table\n",
    "- Overall Approval Rate with average SE(clustered SE will be used)\n",
    "- Average Approval Rates Cross Section Table\n",
    "- Median Income\n",
    "- Average LTV\n",
    "- Average DTI\n",
    "- Average Loan Amount\n",
    "- Overall and Race/Ethnicity/Gender Cross sectional on Denial Rates\n",
    "- Denial Reasons by Racial Group\n",
    "- Top US lenders???"
   ]
  },
  {
   "cell_type": "code",
   "execution_count": null,
   "id": "4e9bafb0-d771-406c-988c-0131edb8ff21",
   "metadata": {},
   "outputs": [],
   "source": []
  }
 ],
 "metadata": {
  "kernelspec": {
   "display_name": "Python 3 (ipykernel)",
   "language": "python",
   "name": "python3"
  },
  "language_info": {
   "codemirror_mode": {
    "name": "ipython",
    "version": 3
   },
   "file_extension": ".py",
   "mimetype": "text/x-python",
   "name": "python",
   "nbconvert_exporter": "python",
   "pygments_lexer": "ipython3",
   "version": "3.9.7"
  }
 },
 "nbformat": 4,
 "nbformat_minor": 5
}
